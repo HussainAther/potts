{
  "nbformat": 4,
  "nbformat_minor": 0,
  "metadata": {
    "colab": {
      "name": "CSC412_Potts_Proteins_Tianyu.ipynb",
      "provenance": [],
      "collapsed_sections": [],
      "toc_visible": true
    },
    "kernelspec": {
      "name": "python3",
      "display_name": "Python 3"
    }
  },
  "cells": [
    {
      "cell_type": "markdown",
      "metadata": {
        "id": "4wEsF7vQhpyv"
      },
      "source": [
        "# Training Potts Models with Contrastive Divergence for Protein Design"
      ]
    },
    {
      "cell_type": "markdown",
      "metadata": {
        "id": "3bzFaRlhh3z3"
      },
      "source": [
        "## GREMLIN"
      ]
    },
    {
      "cell_type": "markdown",
      "metadata": {
        "id": "Q0DZPw7CjbO0"
      },
      "source": [
        "https://github.com/whbpt/GREMLIN_PYTORCH/blob/master/GREMLIN_pytorch.ipynb\r\n",
        "\r\n",
        "Also see https://github.com/HussainAther/potts/blob/main/notebooks/CSC412_Potts_Proteins_hussain.ipynb"
      ]
    },
    {
      "cell_type": "markdown",
      "metadata": {
        "id": "70cuqoEwh6ua"
      },
      "source": [
        "### bmDCA"
      ]
    },
    {
      "cell_type": "markdown",
      "metadata": {
        "id": "6S4NieuvpK-d"
      },
      "source": [
        "**Important Notes:**\r\n",
        "\r\n",
        "*  All amino acids must be upper case"
      ]
    },
    {
      "cell_type": "markdown",
      "metadata": {
        "id": "uycScwLXjYcY"
      },
      "source": [
        "https://github.com/ranganathanlab/bmDCA"
      ]
    },
    {
      "cell_type": "code",
      "metadata": {
        "id": "nsbIeBcAh7nS",
        "colab": {
          "base_uri": "https://localhost:8080/"
        },
        "outputId": "7507a63e-fa7e-4fb0-d3cd-3ffb7fb3ecab"
      },
      "source": [
        "!git clone https://github.com/ranganathanlab/bmDCA.git"
      ],
      "execution_count": null,
      "outputs": [
        {
          "output_type": "stream",
          "text": [
            "Cloning into 'bmDCA'...\n",
            "remote: Enumerating objects: 33, done.\u001b[K\n",
            "remote: Counting objects: 100% (33/33), done.\u001b[K\n",
            "remote: Compressing objects: 100% (23/23), done.\u001b[K\n",
            "remote: Total 1679 (delta 15), reused 22 (delta 10), pack-reused 1646\u001b[K\n",
            "Receiving objects: 100% (1679/1679), 790.26 KiB | 12.35 MiB/s, done.\n",
            "Resolving deltas: 100% (1152/1152), done.\n"
          ],
          "name": "stdout"
        }
      ]
    },
    {
      "cell_type": "code",
      "metadata": {
        "colab": {
          "base_uri": "https://localhost:8080/"
        },
        "id": "OGA3ExkIhWqr",
        "outputId": "8ba6714d-f389-48ff-ea3e-632d4e0271d4"
      },
      "source": [
        "!sudo apt-get update\r\n",
        "!sudo apt-get install git gcc g++ automake autoconf pkg-config \\\r\n",
        "  libarmadillo-dev libopenblas-dev libarpack++2-dev"
      ],
      "execution_count": null,
      "outputs": [
        {
          "output_type": "stream",
          "text": [
            "\r0% [Working]\r            \rIgn:1 https://developer.download.nvidia.com/compute/cuda/repos/ubuntu1804/x86_64  InRelease\n",
            "\r0% [Waiting for headers] [Waiting for headers] [Waiting for headers] [Waiting f\r                                                                               \rHit:2 https://cloud.r-project.org/bin/linux/ubuntu bionic-cran40/ InRelease\n",
            "\r0% [Waiting for headers] [Waiting for headers] [Waiting for headers] [Waiting f\r0% [2 InRelease gpgv 3,626 B] [Waiting for headers] [Waiting for headers] [Wait\r                                                                               \rHit:3 http://security.ubuntu.com/ubuntu bionic-security InRelease\n",
            "\r0% [2 InRelease gpgv 3,626 B] [Waiting for headers] [Waiting for headers] [Wait\r                                                                               \rHit:4 http://ppa.launchpad.net/c2d4u.team/c2d4u4.0+/ubuntu bionic InRelease\n",
            "\r0% [2 InRelease gpgv 3,626 B] [Waiting for headers] [Connecting to ppa.launchpa\r                                                                               \rHit:5 http://archive.ubuntu.com/ubuntu bionic InRelease\n",
            "Ign:6 https://developer.download.nvidia.com/compute/machine-learning/repos/ubuntu1804/x86_64  InRelease\n",
            "Hit:7 https://developer.download.nvidia.com/compute/cuda/repos/ubuntu1804/x86_64  Release\n",
            "Hit:8 https://developer.download.nvidia.com/compute/machine-learning/repos/ubuntu1804/x86_64  Release\n",
            "Hit:9 http://archive.ubuntu.com/ubuntu bionic-updates InRelease\n",
            "Hit:10 http://archive.ubuntu.com/ubuntu bionic-backports InRelease\n",
            "Hit:11 http://ppa.launchpad.net/cran/libgit2/ubuntu bionic InRelease\n",
            "Hit:12 http://ppa.launchpad.net/deadsnakes/ppa/ubuntu bionic InRelease\n",
            "Hit:14 http://ppa.launchpad.net/graphics-drivers/ppa/ubuntu bionic InRelease\n",
            "Reading package lists... Done\n",
            "Reading package lists... Done\n",
            "Building dependency tree       \n",
            "Reading state information... Done\n",
            "autoconf is already the newest version (2.69-11).\n",
            "automake is already the newest version (1:1.15.1-3ubuntu2).\n",
            "pkg-config is already the newest version (0.29.1-0ubuntu2).\n",
            "libarmadillo-dev is already the newest version (1:8.400.0+dfsg-2).\n",
            "libarpack++2-dev is already the newest version (2.3-8).\n",
            "libopenblas-dev is already the newest version (0.2.20+ds-4).\n",
            "g++ is already the newest version (4:7.4.0-1ubuntu2.3).\n",
            "gcc is already the newest version (4:7.4.0-1ubuntu2.3).\n",
            "git is already the newest version (1:2.17.1-1ubuntu0.7).\n",
            "0 upgraded, 0 newly installed, 0 to remove and 60 not upgraded.\n"
          ],
          "name": "stdout"
        }
      ]
    },
    {
      "cell_type": "code",
      "metadata": {
        "colab": {
          "base_uri": "https://localhost:8080/"
        },
        "id": "PD6EtSWehGYj",
        "outputId": "91f881c6-5865-4d29-ab25-2d2808df6668"
      },
      "source": [
        "%cd bmDCA\r\n",
        "!bash autogen.sh --prefix=/usr/local && \\\r\n",
        "%cd .."
      ],
      "execution_count": null,
      "outputs": [
        {
          "output_type": "stream",
          "text": [
            "/content/bmDCA/bmDCA\n",
            "+ ./configure --prefix=/usr/local\n",
            "checking build system type... x86_64-pc-linux-gnu\n",
            "checking host system type... x86_64-pc-linux-gnu\n",
            "checking for a BSD-compatible install... /usr/bin/install -c\n",
            "checking whether build environment is sane... yes\n",
            "checking for a thread-safe mkdir -p... /bin/mkdir -p\n",
            "checking for gawk... no\n",
            "checking for mawk... mawk\n",
            "checking whether make sets $(MAKE)... yes\n",
            "checking whether make supports nested variables... yes\n",
            "checking whether to enable maintainer-specific portions of Makefiles... yes\n",
            "checking whether make supports nested variables... (cached) yes\n",
            "checking for g++... g++\n",
            "checking whether the C++ compiler works... yes\n",
            "checking for C++ compiler default output file name... a.out\n",
            "checking for suffix of executables... \n",
            "checking whether we are cross compiling... no\n",
            "checking for suffix of object files... o\n",
            "checking whether we are using the GNU C++ compiler... yes\n",
            "checking whether g++ accepts -g... yes\n",
            "checking for style of include used by make... GNU\n",
            "checking dependency style of g++... gcc3\n",
            "checking whether g++ supports C++11 features with -std=c++11... yes\n",
            "checking for pkg-config... /usr/bin/pkg-config\n",
            "checking pkg-config is at least version 0.9.0... yes\n",
            "checking how to run the C++ preprocessor... g++ -std=c++11 -E\n",
            "checking for grep that handles long lines and -e... /bin/grep\n",
            "checking for egrep... /bin/grep -E\n",
            "checking for ANSI C header files... yes\n",
            "checking for sys/types.h... yes\n",
            "checking for sys/stat.h... yes\n",
            "checking for stdlib.h... yes\n",
            "checking for string.h... yes\n",
            "checking for memory.h... yes\n",
            "checking for strings.h... yes\n",
            "checking for inttypes.h... yes\n",
            "checking for stdint.h... yes\n",
            "checking for unistd.h... yes\n",
            "checking for ARMADILLO... no\n",
            "checking armadillo usability... yes\n",
            "checking armadillo presence... yes\n",
            "checking for armadillo... yes\n",
            "checking for g++ -std=c++11 option to support OpenMP... -fopenmp\n",
            "checking stdio.h usability... yes\n",
            "checking stdio.h presence... yes\n",
            "checking for stdio.h... yes\n",
            "checking assert.h usability... yes\n",
            "checking assert.h presence... yes\n",
            "checking for assert.h... yes\n",
            "checking for uint16_t... yes\n",
            "checking that generated files are newer than configure... done\n",
            "configure: creating ./config.status\n",
            "config.status: creating Makefile\n",
            "config.status: creating src/Makefile\n",
            "config.status: executing depfiles commands\n",
            "/bin/bash: line 0: fg: no job control\n"
          ],
          "name": "stdout"
        }
      ]
    },
    {
      "cell_type": "code",
      "metadata": {
        "colab": {
          "base_uri": "https://localhost:8080/"
        },
        "id": "IqzOKukDkVqY",
        "outputId": "0457cca7-1520-4907-fd5e-5e616a5d24ef"
      },
      "source": [
        "%%shell\r\n",
        "cd bmDCA\r\n",
        "make -j4 && \\\r\n",
        "make install\r\n",
        "cd .."
      ],
      "execution_count": null,
      "outputs": [
        {
          "output_type": "stream",
          "text": [
            "/bin/bash: line 0: cd: bmDCA: No such file or directory\n",
            "Making all in src\n",
            "make[1]: Entering directory '/content/bmDCA/bmDCA/src'\n",
            "  CXX      bmdca.o\n",
            "  CXX      model.o\n",
            "  CXX      msa_stats.o\n",
            "  CXX      msa.o\n",
            "  CXX      run.o\n",
            "  CXX      mcmc.o\n",
            "  CXX      mcmc_stats.o\n",
            "  CXX      graph.o\n",
            "  CXX      utils.o\n",
            "\u001b[01m\u001b[Krun.cpp:\u001b[m\u001b[K In constructor ‘\u001b[01m\u001b[KSim::Sim(MSAStats, std::__cxx11::string, std::__cxx11::string, bool)\u001b[m\u001b[K’:\n",
            "\u001b[01m\u001b[Krun.cpp:383:10:\u001b[m\u001b[K \u001b[01;35m\u001b[Kwarning: \u001b[m\u001b[Kignoring return value of ‘\u001b[01m\u001b[Kint chdir(const char*)\u001b[m\u001b[K’, declared with attribute warn_unused_result [\u001b[01;35m\u001b[K-Wunused-result\u001b[m\u001b[K]\n",
            "     \u001b[01;35m\u001b[Kchdir(dest_dir.c_str())\u001b[m\u001b[K;\n",
            "     \u001b[01;35m\u001b[K~~~~~^~~~~~~~~~~~~~~~~~\u001b[m\u001b[K\n",
            "  CXX      bmdca_sample.o\n",
            "  CXX      generator.o\n",
            "  CXX      arma_convert.o\n",
            "\u001b[01m\u001b[Kbmdca_sample.cpp:\u001b[m\u001b[K In function ‘\u001b[01m\u001b[Kint main(int, char**)\u001b[m\u001b[K’:\n",
            "\u001b[01m\u001b[Kbmdca_sample.cpp:124:10:\u001b[m\u001b[K \u001b[01;35m\u001b[Kwarning: \u001b[m\u001b[Kignoring return value of ‘\u001b[01m\u001b[Kint chdir(const char*)\u001b[m\u001b[K’, declared with attribute warn_unused_result [\u001b[01;35m\u001b[K-Wunused-result\u001b[m\u001b[K]\n",
            "     \u001b[01;35m\u001b[Kchdir(dest_dir.c_str())\u001b[m\u001b[K;\n",
            "     \u001b[01;35m\u001b[K~~~~~^~~~~~~~~~~~~~~~~~\u001b[m\u001b[K\n",
            "  CXX      fasta_convert.o\n",
            "  CXXLD    bmdca\n",
            "  CXXLD    bmdca_sample\n",
            "  CXXLD    arma2ascii\n",
            "  CXXLD    numeric2fasta\n",
            "make[1]: Leaving directory '/content/bmDCA/bmDCA/src'\n",
            "make[1]: Entering directory '/content/bmDCA/bmDCA'\n",
            "make[1]: Nothing to be done for 'all-am'.\n",
            "make[1]: Leaving directory '/content/bmDCA/bmDCA'\n",
            "Making install in src\n",
            "make[1]: Entering directory '/content/bmDCA/bmDCA/src'\n",
            "make[2]: Entering directory '/content/bmDCA/bmDCA/src'\n",
            " /bin/mkdir -p '/usr/local/bin'\n",
            "  /usr/bin/install -c bmdca bmdca_sample arma2ascii numeric2fasta '/usr/local/bin'\n",
            "make[2]: Nothing to be done for 'install-data-am'.\n",
            "make[2]: Leaving directory '/content/bmDCA/bmDCA/src'\n",
            "make[1]: Leaving directory '/content/bmDCA/bmDCA/src'\n",
            "make[1]: Entering directory '/content/bmDCA/bmDCA'\n",
            "make[2]: Entering directory '/content/bmDCA/bmDCA'\n",
            "make[2]: Nothing to be done for 'install-exec-am'.\n",
            "make[2]: Nothing to be done for 'install-data-am'.\n",
            "make[2]: Leaving directory '/content/bmDCA/bmDCA'\n",
            "make[1]: Leaving directory '/content/bmDCA/bmDCA'\n"
          ],
          "name": "stdout"
        },
        {
          "output_type": "execute_result",
          "data": {
            "text/plain": [
              ""
            ]
          },
          "metadata": {
            "tags": []
          },
          "execution_count": 8
        }
      ]
    },
    {
      "cell_type": "code",
      "metadata": {
        "id": "yQmkeiO5lbNv"
      },
      "source": [
        "!mkdir results"
      ],
      "execution_count": null,
      "outputs": []
    },
    {
      "cell_type": "code",
      "metadata": {
        "colab": {
          "base_uri": "https://localhost:8080/"
        },
        "id": "FI0q2odCavcN",
        "outputId": "07433a9f-8e45-4afa-b4ca-379f83e6cafb"
      },
      "source": [
        "%cd /content"
      ],
      "execution_count": null,
      "outputs": [
        {
          "output_type": "stream",
          "text": [
            "/content\n"
          ],
          "name": "stdout"
        }
      ]
    },
    {
      "cell_type": "markdown",
      "metadata": {
        "id": "4bqAs-8fpxVE"
      },
      "source": [
        "#### Training"
      ]
    },
    {
      "cell_type": "markdown",
      "metadata": {
        "id": "pq7whj-FsI4o"
      },
      "source": [
        "100-245 of LCC?"
      ]
    },
    {
      "cell_type": "code",
      "metadata": {
        "id": "DN2UippGv2Jl"
      },
      "source": [
        "import numpy as np\r\n",
        "\r\n",
        "def read_fasta(fname):\r\n",
        "    seqs = []\r\n",
        "    s = \"\"\r\n",
        "    with open(fname) as f:\r\n",
        "        line = f.readline()\r\n",
        "        while line:\r\n",
        "            if line.startswith(\">\"):\r\n",
        "                if s != \"\":\r\n",
        "                    seqs.append(list(s))\r\n",
        "                s = \"\"\r\n",
        "            elif len(line) > 0:\r\n",
        "                s += line.strip()\r\n",
        "            line = f.readline()\r\n",
        "        seqs.append(list(s))\r\n",
        "    return np.array(seqs)"
      ],
      "execution_count": null,
      "outputs": []
    },
    {
      "cell_type": "code",
      "metadata": {
        "id": "69iTRXtwP33q"
      },
      "source": [
        "# seqs = read_fasta(\"pfam_hits.txt\")\r\n",
        "seqs = read_fasta(\"lcc_pfam.txt\")"
      ],
      "execution_count": null,
      "outputs": []
    },
    {
      "cell_type": "code",
      "metadata": {
        "id": "jw8kY_Z7QWtz"
      },
      "source": [
        "mask = np.zeros(len(seqs[0]), dtype=np.bool)\r\n",
        "for i in range(len(seqs[0])):\r\n",
        "    gaps = 0\r\n",
        "    for s in seqs:\r\n",
        "        if s[i] == '-':\r\n",
        "            gaps += 1\r\n",
        "    if gaps/len(seqs) < 0.67:   # keep positions where less than 2/3rd are gaps\r\n",
        "        mask[i] = True\r\n",
        "seqs = seqs[:,mask]"
      ],
      "execution_count": null,
      "outputs": []
    },
    {
      "cell_type": "code",
      "metadata": {
        "id": "-DNBiArLSgj4"
      },
      "source": [
        "towrite = \"\"\r\n",
        "for i in range(len(seqs)):\r\n",
        "    if sum(seqs[i][100:] == \"-\") < 50:  # don't take sequences with many gaps\r\n",
        "        towrite += \">{}\\n\".format(i)\r\n",
        "        seq = \"\".join(seqs[i][:]) + \"\\n\"\r\n",
        "        towrite += seq.upper()   \r\n",
        "with open(\"lcc_short.fasta\",'w') as f:\r\n",
        "    f.write(towrite)"
      ],
      "execution_count": null,
      "outputs": []
    },
    {
      "cell_type": "code",
      "metadata": {
        "colab": {
          "base_uri": "https://localhost:8080/"
        },
        "id": "sqs_m0ikIhlJ",
        "outputId": "619f3542-b827-43de-8b0a-49c2d0ad29a6"
      },
      "source": [
        "%%shell\r\n",
        "rm results/*\r\n",
        "bmdca -i lcc_short.fasta -r -d /content/results"
      ],
      "execution_count": null,
      "outputs": [
        {
          "output_type": "stream",
          "text": [
            "15047 sequences\n",
            "227 positions\n",
            "21 amino acids (including gaps)\n",
            "9318.1 effective sequences\n",
            "initializing run... 5.29271 sec\n",
            "\n",
            "Step: 1\n",
            "sampling model with mcmc... 7.80018 sec\n",
            "updating mcmc with samples... 4.8794 sec\n",
            "computing sequence energies and correlations... 0.3637 sec\n",
            "computing mcmc 1p and 2p statistics... 2.44098 sec\n",
            "computing error and updating gradient... 1.53069 sec\n",
            "update learning rate... 0.227634 sec\n",
            "updating parameters... 0.230206 sec\n",
            "\n",
            "Step: 2\n",
            "sampling model with mcmc... 7.64549 sec\n",
            "updating mcmc with samples... 4.84465 sec\n",
            "computing sequence energies and correlations... 0.370797 sec\n",
            "computing mcmc 1p and 2p statistics... 2.48229 sec\n",
            "computing error and updating gradient... 1.54458 sec\n",
            "update learning rate... 0.223336 sec\n",
            "updating parameters... 0.220518 sec\n",
            "\n",
            "Step: 3\n",
            "sampling model with mcmc... 7.638 sec\n",
            "updating mcmc with samples... 4.85864 sec\n",
            "computing sequence energies and correlations... 0.367031 sec\n",
            "computing mcmc 1p and 2p statistics... 2.4813 sec\n",
            "computing error and updating gradient... 1.5265 sec\n",
            "update learning rate... 0.225948 sec\n",
            "updating parameters... 0.225317 sec\n",
            "\n",
            "Step: 4\n",
            "sampling model with mcmc... 7.55405 sec\n",
            "updating mcmc with samples... 5.36348 sec\n",
            "computing sequence energies and correlations... 0.376647 sec\n",
            "computing mcmc 1p and 2p statistics... 2.4784 sec\n",
            "computing error and updating gradient... 1.54345 sec\n",
            "update learning rate... 0.228886 sec\n",
            "updating parameters... 0.219753 sec\n",
            "\n",
            "Step: 5\n",
            "sampling model with mcmc... 7.57926 sec\n",
            "updating mcmc with samples... 4.83253 sec\n",
            "computing sequence energies and correlations... 0.373768 sec\n",
            "computing mcmc 1p and 2p statistics... 2.487 sec\n",
            "computing error and updating gradient... 1.52633 sec\n",
            "update learning rate... 0.223893 sec\n",
            "updating parameters... 0.227044 sec\n",
            "\n",
            "Step: 6\n",
            "sampling model with mcmc... 7.66838 sec\n",
            "updating mcmc with samples... 4.84024 sec\n",
            "computing sequence energies and correlations... 0.37397 sec\n",
            "decreasing burn-in time to 6000\n",
            "computing mcmc 1p and 2p statistics... 2.47608 sec\n",
            "computing error and updating gradient... 1.54186 sec\n",
            "update learning rate... 0.22541 sec\n",
            "updating parameters... 0.219437 sec\n",
            "\n",
            "Step: 7\n",
            "sampling model with mcmc... 7.5463 sec\n",
            "updating mcmc with samples... 4.90423 sec\n",
            "computing sequence energies and correlations... 0.373856 sec\n",
            "increasing burn-in time to 9000\n",
            "resampling...\n",
            "sampling model with mcmc... 7.79065 sec\n",
            "updating mcmc with samples... 4.87827 sec\n",
            "computing sequence energies and correlations... 0.374615 sec\n",
            "computing mcmc 1p and 2p statistics... 2.51367 sec\n",
            "computing error and updating gradient... 1.54416 sec\n",
            "update learning rate... 0.221238 sec\n",
            "updating parameters... 0.221715 sec\n",
            "\n",
            "Step: 8\n",
            "sampling model with mcmc... 7.59423 sec\n",
            "updating mcmc with samples... 4.84951 sec\n",
            "computing sequence energies and correlations... 0.369984 sec\n",
            "computing mcmc 1p and 2p statistics... 2.55944 sec\n",
            "computing error and updating gradient... 1.53813 sec\n",
            "update learning rate... 0.221037 sec\n",
            "updating parameters... 0.221867 sec\n",
            "\n",
            "Step: 9\n",
            "sampling model with mcmc... 7.48394 sec\n",
            "updating mcmc with samples... 4.8425 sec\n",
            "computing sequence energies and correlations... 0.372783 sec\n",
            "computing mcmc 1p and 2p statistics... 2.57227 sec\n",
            "computing error and updating gradient... 1.5272 sec\n",
            "update learning rate... 0.221706 sec\n",
            "updating parameters... 0.219034 sec\n",
            "\n",
            "Step: 10\n",
            "sampling model with mcmc... 7.50655 sec\n",
            "updating mcmc with samples... 4.82983 sec\n",
            "computing sequence energies and correlations... 0.370494 sec\n",
            "computing mcmc 1p and 2p statistics... 2.58175 sec\n",
            "computing error and updating gradient... 1.5336 sec\n",
            "update learning rate... 0.220065 sec\n",
            "updating parameters... 0.220529 sec\n",
            "\n",
            "Step: 11\n",
            "sampling model with mcmc... 7.52791 sec\n",
            "updating mcmc with samples... 4.82623 sec\n",
            "computing sequence energies and correlations... 0.373083 sec\n",
            "computing mcmc 1p and 2p statistics... 2.58528 sec\n",
            "computing error and updating gradient... 1.53254 sec\n",
            "update learning rate... 0.22219 sec\n",
            "updating parameters... 0.224149 sec\n",
            "\n",
            "Step: 12\n",
            "sampling model with mcmc... 7.5352 sec\n",
            "updating mcmc with samples... 4.82762 sec\n",
            "computing sequence energies and correlations... 0.373704 sec\n",
            "computing mcmc 1p and 2p statistics... 2.55341 sec\n",
            "computing error and updating gradient... 1.52829 sec\n",
            "update learning rate... 0.219559 sec\n",
            "updating parameters... 0.218731 sec\n",
            "\n",
            "Step: 13\n",
            "sampling model with mcmc... 7.63462 sec\n",
            "updating mcmc with samples... 7.93788 sec\n",
            "computing sequence energies and correlations... 0.637954 sec\n",
            "computing mcmc 1p and 2p statistics... 5.63332 sec\n",
            "computing error and updating gradient... 1.6141 sec\n",
            "update learning rate... 0.238466 sec\n",
            "updating parameters... 0.226489 sec\n",
            "\n",
            "Step: 14\n",
            "sampling model with mcmc... 8.09609 sec\n",
            "updating mcmc with samples... 5.17019 sec\n",
            "computing sequence energies and correlations... 0.363076 sec\n",
            "increasing burn-in time to 13500\n",
            "resampling...\n",
            "sampling model with mcmc... 8.41505 sec\n",
            "updating mcmc with samples... 5.19858 sec\n",
            "computing sequence energies and correlations... 0.374961 sec\n",
            "computing mcmc 1p and 2p statistics... 2.57362 sec\n",
            "computing error and updating gradient... 1.53935 sec\n",
            "update learning rate... 0.219135 sec\n",
            "updating parameters... 0.225765 sec\n",
            "\n",
            "Step: 15\n",
            "sampling model with mcmc... 8.53489 sec\n",
            "updating mcmc with samples... 5.24488 sec\n",
            "computing sequence energies and correlations... 0.372021 sec\n",
            "computing mcmc 1p and 2p statistics... 2.59021 sec\n",
            "computing error and updating gradient... 1.53915 sec\n",
            "update learning rate... 0.225993 sec\n",
            "updating parameters... 0.228953 sec\n",
            "\n",
            "Step: 16\n",
            "sampling model with mcmc... 8.55856 sec\n",
            "updating mcmc with samples... 5.28246 sec\n",
            "computing sequence energies and correlations... 0.360938 sec\n",
            "computing mcmc 1p and 2p statistics... 2.59443 sec\n",
            "computing error and updating gradient... 1.54925 sec\n",
            "update learning rate... 0.221056 sec\n",
            "updating parameters... 0.221362 sec\n",
            "\n",
            "Step: 17\n",
            "sampling model with mcmc... 8.65092 sec\n",
            "updating mcmc with samples... 5.29411 sec\n",
            "computing sequence energies and correlations... 0.370818 sec\n",
            "computing mcmc 1p and 2p statistics... 2.61484 sec\n",
            "computing error and updating gradient... 1.56437 sec\n",
            "update learning rate... 0.221371 sec\n",
            "updating parameters... 0.226135 sec\n",
            "\n",
            "Step: 18\n",
            "sampling model with mcmc... 8.45962 sec\n",
            "updating mcmc with samples... 5.19241 sec\n",
            "computing sequence energies and correlations... 0.370165 sec\n",
            "computing mcmc 1p and 2p statistics... 2.58315 sec\n",
            "computing error and updating gradient... 1.54383 sec\n",
            "update learning rate... 0.223826 sec\n",
            "updating parameters... 0.220528 sec\n",
            "\n",
            "Step: 19\n",
            "sampling model with mcmc... 8.54161 sec\n",
            "updating mcmc with samples... 5.23927 sec\n",
            "computing sequence energies and correlations... 0.371295 sec\n",
            "computing mcmc 1p and 2p statistics... 2.61216 sec\n",
            "computing error and updating gradient... 1.53396 sec\n",
            "update learning rate... 0.224034 sec\n",
            "updating parameters... 0.223038 sec\n",
            "\n",
            "Step: 20\n",
            "sampling model with mcmc... 8.49645 sec\n",
            "updating mcmc with samples... 5.23993 sec\n",
            "computing sequence energies and correlations... 0.36708 sec\n",
            "computing mcmc 1p and 2p statistics... 2.6169 sec\n",
            "computing error and updating gradient... 1.53363 sec\n",
            "update learning rate... 0.222485 sec\n",
            "updating parameters... 0.221879 sec\n",
            "writing step 20... 3.86924 sec\n",
            "\n",
            "Step: 21\n",
            "sampling model with mcmc... 8.61629 sec\n",
            "updating mcmc with samples... 5.16516 sec\n",
            "computing sequence energies and correlations... 0.367024 sec\n",
            "computing mcmc 1p and 2p statistics... 2.61318 sec\n",
            "computing error and updating gradient... 1.54001 sec\n",
            "update learning rate... 0.224367 sec\n",
            "updating parameters... 0.225556 sec\n",
            "\n",
            "Step: 22\n",
            "sampling model with mcmc... 8.47936 sec\n",
            "updating mcmc with samples... 5.2728 sec\n",
            "computing sequence energies and correlations... 0.372345 sec\n",
            "computing mcmc 1p and 2p statistics... 2.63012 sec\n",
            "computing error and updating gradient... 1.54746 sec\n",
            "update learning rate... 0.223224 sec\n",
            "updating parameters... 0.224525 sec\n",
            "\n",
            "Step: 23\n",
            "sampling model with mcmc... 8.50775 sec\n",
            "updating mcmc with samples... 5.20945 sec\n",
            "computing sequence energies and correlations... 0.363309 sec\n",
            "computing mcmc 1p and 2p statistics... 2.63855 sec\n",
            "computing error and updating gradient... 1.54168 sec\n",
            "update learning rate... 0.230582 sec\n",
            "updating parameters... 0.233668 sec\n",
            "\n",
            "Step: 24\n",
            "sampling model with mcmc... 8.60387 sec\n",
            "updating mcmc with samples... 5.24517 sec\n",
            "computing sequence energies and correlations... 0.375353 sec\n",
            "computing mcmc 1p and 2p statistics... 2.63967 sec\n",
            "computing error and updating gradient... 1.53347 sec\n",
            "update learning rate... 0.218854 sec\n",
            "updating parameters... 0.219523 sec\n",
            "\n",
            "Step: 25\n",
            "sampling model with mcmc... 8.49142 sec\n",
            "updating mcmc with samples... 5.2013 sec\n",
            "computing sequence energies and correlations... 0.372601 sec\n",
            "computing mcmc 1p and 2p statistics... 2.61959 sec\n",
            "computing error and updating gradient... 1.53433 sec\n",
            "update learning rate... 0.22587 sec\n",
            "updating parameters... 0.220903 sec\n",
            "\n",
            "Step: 26\n",
            "sampling model with mcmc... 8.54344 sec\n",
            "updating mcmc with samples... 5.20546 sec\n",
            "computing sequence energies and correlations... 0.38093 sec\n",
            "computing mcmc 1p and 2p statistics... 2.65282 sec\n",
            "computing error and updating gradient... 1.5416 sec\n",
            "update learning rate... 0.218587 sec\n",
            "updating parameters... 0.225711 sec\n",
            "\n",
            "Step: 27\n",
            "sampling model with mcmc... 8.4454 sec\n",
            "updating mcmc with samples... 5.16053 sec\n",
            "computing sequence energies and correlations... 0.364129 sec\n",
            "computing mcmc 1p and 2p statistics... 2.63799 sec\n",
            "computing error and updating gradient... 1.53358 sec\n",
            "update learning rate... 0.220003 sec\n",
            "updating parameters... 0.229228 sec\n",
            "\n",
            "Step: 28\n",
            "sampling model with mcmc... 8.48399 sec\n",
            "updating mcmc with samples... 5.25539 sec\n",
            "computing sequence energies and correlations... 0.373144 sec\n",
            "increasing burn-in time to 20250\n",
            "resampling...\n",
            "sampling model with mcmc... 9.03647 sec\n",
            "updating mcmc with samples... 5.23959 sec\n",
            "computing sequence energies and correlations... 0.377809 sec\n",
            "computing mcmc 1p and 2p statistics... 2.6423 sec\n",
            "computing error and updating gradient... 1.54843 sec\n",
            "update learning rate... 0.224835 sec\n",
            "updating parameters... 0.229007 sec\n",
            "\n",
            "Step: 29\n",
            "sampling model with mcmc... 8.86525 sec\n",
            "updating mcmc with samples... 5.22967 sec\n",
            "computing sequence energies and correlations... 0.365255 sec\n",
            "computing mcmc 1p and 2p statistics... 2.64097 sec\n",
            "computing error and updating gradient... 1.54453 sec\n",
            "update learning rate... 0.219852 sec\n",
            "updating parameters... 0.222451 sec\n",
            "\n",
            "Step: 30\n",
            "sampling model with mcmc... 9.05547 sec\n",
            "updating mcmc with samples... 5.21658 sec\n",
            "computing sequence energies and correlations... 0.365977 sec\n",
            "computing mcmc 1p and 2p statistics... 2.65682 sec\n",
            "computing error and updating gradient... 1.55309 sec\n",
            "update learning rate... 0.224125 sec\n",
            "updating parameters... 0.221007 sec\n",
            "\n",
            "Step: 31\n",
            "sampling model with mcmc... 9.10629 sec\n",
            "updating mcmc with samples... 5.29717 sec\n",
            "computing sequence energies and correlations... 0.363273 sec\n",
            "computing mcmc 1p and 2p statistics... 2.66232 sec\n",
            "computing error and updating gradient... 1.56209 sec\n",
            "update learning rate... 0.224398 sec\n",
            "updating parameters... 0.223516 sec\n",
            "\n",
            "Step: 32\n",
            "sampling model with mcmc... 9.02256 sec\n",
            "updating mcmc with samples... 5.24217 sec\n",
            "computing sequence energies and correlations... 0.369077 sec\n",
            "computing mcmc 1p and 2p statistics... 2.66045 sec\n",
            "computing error and updating gradient... 1.54666 sec\n",
            "update learning rate... 0.218098 sec\n",
            "updating parameters... 0.219919 sec\n",
            "\n",
            "Step: 33\n",
            "sampling model with mcmc... 9.03173 sec\n",
            "updating mcmc with samples... 5.28634 sec\n",
            "computing sequence energies and correlations... 0.367465 sec\n",
            "computing mcmc 1p and 2p statistics... 2.65294 sec\n",
            "computing error and updating gradient... 1.53867 sec\n",
            "update learning rate... 0.229103 sec\n",
            "updating parameters... 0.225274 sec\n",
            "\n",
            "Step: 34\n",
            "sampling model with mcmc... 9.10122 sec\n",
            "updating mcmc with samples... 5.21133 sec\n",
            "computing sequence energies and correlations... 0.365908 sec\n",
            "computing mcmc 1p and 2p statistics... 2.67427 sec\n",
            "computing error and updating gradient... 1.5481 sec\n",
            "update learning rate... 0.225662 sec\n",
            "updating parameters... 0.219745 sec\n",
            "\n",
            "Step: 35\n",
            "sampling model with mcmc... 9.00944 sec\n",
            "updating mcmc with samples... 5.2489 sec\n",
            "computing sequence energies and correlations... 0.36814 sec\n",
            "computing mcmc 1p and 2p statistics... 2.67251 sec\n",
            "computing error and updating gradient... 1.55795 sec\n",
            "update learning rate... 0.229936 sec\n",
            "updating parameters... 0.224946 sec\n",
            "\n",
            "Step: 36\n",
            "sampling model with mcmc... 8.98496 sec\n",
            "updating mcmc with samples... 5.25077 sec\n",
            "computing sequence energies and correlations... 0.365615 sec\n",
            "computing mcmc 1p and 2p statistics... 2.72082 sec\n",
            "computing error and updating gradient... 1.55062 sec\n",
            "update learning rate... 0.223626 sec\n",
            "updating parameters... 0.230708 sec\n",
            "\n",
            "Step: 37\n",
            "sampling model with mcmc... 9.07826 sec\n",
            "updating mcmc with samples... 5.25969 sec\n",
            "computing sequence energies and correlations... 0.38338 sec\n",
            "computing mcmc 1p and 2p statistics... 2.67834 sec\n",
            "computing error and updating gradient... 1.54619 sec\n",
            "update learning rate... 0.219728 sec\n",
            "updating parameters... 0.234845 sec\n",
            "\n",
            "Step: 38\n",
            "sampling model with mcmc... 8.96172 sec\n",
            "updating mcmc with samples... 5.20473 sec\n",
            "computing sequence energies and correlations... 0.370773 sec\n",
            "increasing wait time to 150\n",
            "resampling...\n",
            "sampling model with mcmc... 12.7704 sec\n",
            "updating mcmc with samples... 5.28787 sec\n",
            "computing sequence energies and correlations... 0.361802 sec\n",
            "increasing wait time to 225\n",
            "resampling...\n",
            "sampling model with mcmc... 18.3734 sec\n",
            "updating mcmc with samples... 5.3384 sec\n",
            "computing sequence energies and correlations... 0.370882 sec\n",
            "computing mcmc 1p and 2p statistics... 2.69764 sec\n",
            "computing error and updating gradient... 1.55814 sec\n",
            "update learning rate... 0.233264 sec\n",
            "updating parameters... 0.226894 sec\n",
            "\n",
            "Step: 39\n",
            "sampling model with mcmc... 18.3616 sec\n",
            "updating mcmc with samples... 5.33816 sec\n",
            "computing sequence energies and correlations... 0.371891 sec\n",
            "computing mcmc 1p and 2p statistics... 2.69569 sec\n",
            "computing error and updating gradient... 1.55025 sec\n",
            "update learning rate... 0.223875 sec\n",
            "updating parameters... 0.215315 sec\n",
            "\n",
            "Step: 40\n",
            "sampling model with mcmc... 18.3964 sec\n",
            "updating mcmc with samples... 8.57398 sec\n",
            "computing sequence energies and correlations... 0.628456 sec\n",
            "increasing wait time to 338\n",
            "resampling...\n",
            "sampling model with mcmc... 27.9324 sec\n",
            "updating mcmc with samples... 5.42402 sec\n",
            "computing sequence energies and correlations... 0.370168 sec\n",
            "increasing wait time to 507\n",
            "increasing burn-in time to 30375\n",
            "resampling...\n",
            "sampling model with mcmc... 40.107 sec\n",
            "updating mcmc with samples... 5.37238 sec\n",
            "computing sequence energies and correlations... 0.370467 sec\n",
            "increasing wait time to 761\n",
            "resampling...\n",
            "sampling model with mcmc... 59.1076 sec\n",
            "updating mcmc with samples... 5.39817 sec\n",
            "computing sequence energies and correlations... 0.373893 sec\n",
            "increasing wait time to 1142\n",
            "resampling...\n",
            "sampling model with mcmc... 87.9743 sec\n",
            "updating mcmc with samples... 5.51898 sec\n",
            "computing sequence energies and correlations... 0.381351 sec\n",
            "increasing wait time to 1713\n",
            "resampling...\n",
            "sampling model with mcmc... 130.354 sec\n",
            "updating mcmc with samples... 5.43224 sec\n",
            "computing sequence energies and correlations... 0.372493 sec\n",
            "increasing wait time to 2570\n",
            "increasing burn-in time to 45563\n",
            "resampling...\n",
            "sampling model with mcmc... 194.471 sec\n",
            "updating mcmc with samples... 5.46442 sec\n",
            "computing sequence energies and correlations... 0.368633 sec\n",
            "increasing wait time to 3855\n",
            "increasing burn-in time to 68345\n",
            "resampling...\n",
            "sampling model with mcmc... 297.561 sec\n",
            "updating mcmc with samples... 5.43007 sec\n",
            "computing sequence energies and correlations... 0.378879 sec\n",
            "increasing burn-in time to 102518\n",
            "resampling...\n",
            "sampling model with mcmc... 295.911 sec\n",
            "updating mcmc with samples... 5.40146 sec\n",
            "computing sequence energies and correlations... 0.374502 sec\n",
            "increasing burn-in time to 153777\n",
            "resampling...\n",
            "sampling model with mcmc... 299.663 sec\n",
            "updating mcmc with samples... 5.48412 sec\n",
            "computing sequence energies and correlations... 0.375987 sec\n",
            "computing mcmc 1p and 2p statistics... 2.73255 sec\n",
            "computing error and updating gradient... 1.56298 sec\n",
            "update learning rate... 0.234824 sec\n",
            "updating parameters... 0.230927 sec\n",
            "writing step 40... 3.82499 sec\n",
            "\n",
            "Step: 41\n",
            "sampling model with mcmc... 305.332 sec\n",
            "updating mcmc with samples... 5.47064 sec\n",
            "computing sequence energies and correlations... 0.37153 sec\n",
            "computing mcmc 1p and 2p statistics... 2.706 sec\n",
            "computing error and updating gradient... 1.55781 sec\n",
            "update learning rate... 0.230751 sec\n",
            "updating parameters... 0.236795 sec\n",
            "\n",
            "Step: 42\n",
            "sampling model with mcmc... 300.107 sec\n",
            "updating mcmc with samples... 5.48559 sec\n",
            "computing sequence energies and correlations... 0.374751 sec\n",
            "computing mcmc 1p and 2p statistics... 2.71419 sec\n",
            "computing error and updating gradient... 1.56815 sec\n",
            "update learning rate... 0.230996 sec\n",
            "updating parameters... 0.230942 sec\n",
            "\n",
            "Step: 43\n",
            "sampling model with mcmc... 300.298 sec\n",
            "updating mcmc with samples... 5.47247 sec\n",
            "computing sequence energies and correlations... 0.368338 sec\n",
            "computing mcmc 1p and 2p statistics... 2.73958 sec\n",
            "computing error and updating gradient... 1.56436 sec\n",
            "update learning rate... 0.233641 sec\n",
            "updating parameters... 0.230171 sec\n",
            "\n",
            "Step: 44\n",
            "sampling model with mcmc... 300.563 sec\n",
            "updating mcmc with samples... 5.48744 sec\n",
            "computing sequence energies and correlations... 0.374481 sec\n",
            "increasing burn-in time to 230666\n",
            "resampling...\n",
            "sampling model with mcmc... 306.169 sec\n",
            "updating mcmc with samples... 5.45834 sec\n",
            "computing sequence energies and correlations... 0.36951 sec\n",
            "computing mcmc 1p and 2p statistics... 2.67784 sec\n",
            "computing error and updating gradient... 1.55281 sec\n",
            "update learning rate... 0.231823 sec\n",
            "updating parameters... 0.230294 sec\n",
            "\n",
            "Step: 45\n",
            "sampling model with mcmc... 309.489 sec\n",
            "updating mcmc with samples... 5.46348 sec\n",
            "computing sequence energies and correlations... 0.382478 sec\n",
            "computing mcmc 1p and 2p statistics... 2.81824 sec\n",
            "computing error and updating gradient... 1.59958 sec\n",
            "update learning rate... 0.290819 sec\n",
            "updating parameters... 0.230533 sec\n",
            "\n",
            "Step: 46\n",
            "sampling model with mcmc... 307.69 sec\n",
            "updating mcmc with samples... 5.47286 sec\n",
            "computing sequence energies and correlations... 0.37864 sec\n",
            "computing mcmc 1p and 2p statistics... 2.71333 sec\n",
            "computing error and updating gradient... 1.5583 sec\n",
            "update learning rate... 0.232347 sec\n",
            "updating parameters... 0.23333 sec\n",
            "\n",
            "Step: 47\n",
            "sampling model with mcmc... 306.305 sec\n",
            "updating mcmc with samples... 5.49897 sec\n",
            "computing sequence energies and correlations... 0.374535 sec\n",
            "computing mcmc 1p and 2p statistics... 2.72487 sec\n",
            "computing error and updating gradient... 1.55373 sec\n",
            "update learning rate... 0.237733 sec\n",
            "updating parameters... 0.23199 sec\n",
            "\n",
            "Step: 48\n",
            "sampling model with mcmc... 306.474 sec\n",
            "updating mcmc with samples... 5.4998 sec\n",
            "computing sequence energies and correlations... 0.383698 sec\n",
            "increasing burn-in time to 345999\n",
            "resampling...\n",
            "sampling model with mcmc... 315.877 sec\n",
            "updating mcmc with samples... 5.53123 sec\n",
            "computing sequence energies and correlations... 0.379977 sec\n",
            "computing mcmc 1p and 2p statistics... 2.69859 sec\n",
            "computing error and updating gradient... 1.5752 sec\n",
            "update learning rate... 0.230739 sec\n",
            "updating parameters... 0.233997 sec\n",
            "\n",
            "Step: 49\n",
            "sampling model with mcmc... 321.961 sec\n",
            "updating mcmc with samples... 5.51851 sec\n",
            "computing sequence energies and correlations... 0.372029 sec\n",
            "computing mcmc 1p and 2p statistics... 2.68108 sec\n",
            "computing error and updating gradient... 1.55966 sec\n",
            "update learning rate... 0.238586 sec\n",
            "updating parameters... 0.238185 sec\n",
            "\n",
            "Step: 50\n",
            "sampling model with mcmc... 317.214 sec\n",
            "updating mcmc with samples... 5.47156 sec\n",
            "computing sequence energies and correlations... 0.377485 sec\n",
            "increasing burn-in time to 518999\n",
            "resampling...\n",
            "sampling model with mcmc... 328.798 sec\n",
            "updating mcmc with samples... 5.52477 sec\n",
            "computing sequence energies and correlations... 0.382138 sec\n",
            "computing mcmc 1p and 2p statistics... 2.80377 sec\n",
            "computing error and updating gradient... 1.58202 sec\n",
            "update learning rate... 0.2529 sec\n",
            "updating parameters... 0.239367 sec\n",
            "\n",
            "Step: 51\n",
            "sampling model with mcmc... 329.304 sec\n",
            "updating mcmc with samples... 5.45062 sec\n",
            "computing sequence energies and correlations... 0.377679 sec\n",
            "computing mcmc 1p and 2p statistics... 2.70797 sec\n",
            "computing error and updating gradient... 1.55402 sec\n",
            "update learning rate... 0.239002 sec\n",
            "updating parameters... 0.225129 sec\n",
            "\n",
            "Step: 52\n",
            "sampling model with mcmc... 329.564 sec\n",
            "updating mcmc with samples... 5.53078 sec\n",
            "computing sequence energies and correlations... 0.368537 sec\n",
            "computing mcmc 1p and 2p statistics... 2.72497 sec\n",
            "computing error and updating gradient... 1.57112 sec\n",
            "update learning rate... 0.236279 sec\n",
            "updating parameters... 0.227515 sec\n",
            "\n",
            "Step: 53\n",
            "sampling model with mcmc... 329.043 sec\n",
            "updating mcmc with samples... 5.49065 sec\n",
            "computing sequence energies and correlations... 0.369519 sec\n",
            "computing mcmc 1p and 2p statistics... 3.00613 sec\n",
            "computing error and updating gradient... 1.5579 sec\n",
            "update learning rate... 0.230276 sec\n",
            "updating parameters... 0.224001 sec\n",
            "\n",
            "Step: 54\n",
            "sampling model with mcmc... 329.969 sec\n",
            "updating mcmc with samples... 5.45879 sec\n",
            "computing sequence energies and correlations... 0.371343 sec\n",
            "computing mcmc 1p and 2p statistics... 2.64719 sec\n",
            "computing error and updating gradient... 1.55598 sec\n",
            "update learning rate... 0.233384 sec\n",
            "updating parameters... 0.232264 sec\n",
            "\n",
            "Step: 55\n",
            "sampling model with mcmc... 326.926 sec\n",
            "updating mcmc with samples... 5.41956 sec\n",
            "computing sequence energies and correlations... 0.373 sec\n",
            "computing mcmc 1p and 2p statistics... 2.70662 sec\n",
            "computing error and updating gradient... 1.55623 sec\n",
            "update learning rate... 0.23125 sec\n",
            "updating parameters... 0.232975 sec\n",
            "\n",
            "Step: 56\n",
            "sampling model with mcmc... 327.675 sec\n",
            "updating mcmc with samples... 5.50474 sec\n",
            "computing sequence energies and correlations... 0.373214 sec\n",
            "computing mcmc 1p and 2p statistics... 2.71044 sec\n",
            "computing error and updating gradient... 1.5582 sec\n",
            "update learning rate... 0.236351 sec\n",
            "updating parameters... 0.248749 sec\n",
            "\n",
            "Step: 57\n",
            "sampling model with mcmc... 324.59 sec\n",
            "updating mcmc with samples... 5.43781 sec\n",
            "computing sequence energies and correlations... 0.379084 sec\n",
            "computing mcmc 1p and 2p statistics... 2.6994 sec\n",
            "computing error and updating gradient... 1.56619 sec\n",
            "update learning rate... 0.230052 sec\n",
            "updating parameters... 0.22154 sec\n",
            "\n",
            "Step: 58\n",
            "sampling model with mcmc... 322.866 sec\n",
            "updating mcmc with samples... 5.48801 sec\n",
            "computing sequence energies and correlations... 0.368749 sec\n",
            "computing mcmc 1p and 2p statistics... 2.72969 sec\n",
            "computing error and updating gradient... 1.56218 sec\n",
            "update learning rate... 0.230503 sec\n",
            "updating parameters... 0.233193 sec\n",
            "\n",
            "Step: 59\n",
            "sampling model with mcmc... 325.033 sec\n",
            "updating mcmc with samples... 5.43188 sec\n",
            "computing sequence energies and correlations... 0.364371 sec\n",
            "computing mcmc 1p and 2p statistics... 2.70502 sec\n",
            "computing error and updating gradient... 1.56314 sec\n",
            "update learning rate... 0.233585 sec\n",
            "updating parameters... 0.220514 sec\n",
            "\n",
            "Step: 60\n",
            "sampling model with mcmc... 323.163 sec\n",
            "updating mcmc with samples... 5.39592 sec\n",
            "computing sequence energies and correlations... 0.367861 sec\n",
            "computing mcmc 1p and 2p statistics... 2.7066 sec\n",
            "computing error and updating gradient... 1.56282 sec\n",
            "update learning rate... 0.237171 sec\n",
            "updating parameters... 0.230574 sec\n",
            "writing step 60... 3.88034 sec\n",
            "\n",
            "Step: 61\n",
            "sampling model with mcmc... 330.687 sec\n",
            "updating mcmc with samples... 5.48108 sec\n",
            "computing sequence energies and correlations... 0.3669 sec\n",
            "computing mcmc 1p and 2p statistics... 2.75083 sec\n",
            "computing error and updating gradient... 1.55724 sec\n",
            "update learning rate... 0.235459 sec\n",
            "updating parameters... 0.22231 sec\n",
            "\n",
            "Step: 62\n",
            "sampling model with mcmc... 326.275 sec\n",
            "updating mcmc with samples... 5.47236 sec\n",
            "computing sequence energies and correlations... 0.373057 sec\n",
            "computing mcmc 1p and 2p statistics... 2.72929 sec\n",
            "computing error and updating gradient... 1.5615 sec\n",
            "update learning rate... 0.24044 sec\n",
            "updating parameters... 0.232906 sec\n",
            "\n",
            "Step: 63\n",
            "sampling model with mcmc... 328.85 sec\n",
            "updating mcmc with samples... 5.82989 sec\n",
            "computing sequence energies and correlations... 0.386331 sec\n",
            "increasing burn-in time to 778499\n",
            "resampling...\n",
            "sampling model with mcmc... 347.533 sec\n",
            "updating mcmc with samples... 5.4172 sec\n",
            "computing sequence energies and correlations... 0.370977 sec\n",
            "computing mcmc 1p and 2p statistics... 2.89761 sec\n",
            "computing error and updating gradient... 1.60459 sec\n",
            "update learning rate... 0.242249 sec\n",
            "updating parameters... 0.227695 sec\n",
            "\n",
            "Step: 64\n",
            "sampling model with mcmc... 346.479 sec\n",
            "updating mcmc with samples... 5.45088 sec\n",
            "computing sequence energies and correlations... 0.367689 sec\n",
            "computing mcmc 1p and 2p statistics... 2.72439 sec\n",
            "computing error and updating gradient... 1.6559 sec\n",
            "update learning rate... 0.24208 sec\n",
            "updating parameters... 0.258582 sec\n",
            "\n",
            "Step: 65\n",
            "sampling model with mcmc... 342.897 sec\n",
            "updating mcmc with samples... 5.40725 sec\n",
            "computing sequence energies and correlations... 0.370899 sec\n",
            "increasing wait time to 5783\n",
            "resampling...\n",
            "sampling model with mcmc... 484.184 sec\n",
            "updating mcmc with samples... 5.43905 sec\n",
            "computing sequence energies and correlations... 0.368189 sec\n",
            "increasing wait time to 8675\n",
            "resampling...\n",
            "sampling model with mcmc... 710.106 sec\n",
            "updating mcmc with samples... 5.48326 sec\n",
            "computing sequence energies and correlations... 0.365288 sec\n",
            "increasing wait time to 13013\n",
            "increasing burn-in time to 1167749\n",
            "resampling...\n",
            "sampling model with mcmc... 1060.15 sec\n",
            "updating mcmc with samples... 5.47548 sec\n",
            "computing sequence energies and correlations... 0.367657 sec\n",
            "increasing wait time to 19520\n",
            "resampling...\n",
            "sampling model with mcmc... 1534.54 sec\n",
            "updating mcmc with samples... 5.45061 sec\n",
            "computing sequence energies and correlations... 0.366082 sec\n",
            "computing mcmc 1p and 2p statistics... 2.86628 sec\n",
            "computing error and updating gradient... 1.59124 sec\n",
            "update learning rate... 0.242653 sec\n",
            "updating parameters... 0.222988 sec\n",
            "\n",
            "Step: 66\n",
            "sampling model with mcmc... 1524.25 sec\n",
            "updating mcmc with samples... 5.45354 sec\n",
            "computing sequence energies and correlations... 0.369463 sec\n",
            "decreasing wait time to 11712\n",
            "computing mcmc 1p and 2p statistics... 2.72584 sec\n",
            "computing error and updating gradient... 1.5555 sec\n",
            "update learning rate... 0.231095 sec\n",
            "updating parameters... 0.220604 sec\n",
            "\n",
            "Step: 67\n",
            "sampling model with mcmc... 962.045 sec\n",
            "updating mcmc with samples... 5.53437 sec\n",
            "computing sequence energies and correlations... 0.382769 sec\n",
            "decreasing wait time to 7027\n",
            "computing mcmc 1p and 2p statistics... 2.73023 sec\n",
            "computing error and updating gradient... 1.55212 sec\n",
            "update learning rate... 0.228938 sec\n",
            "updating parameters... 0.23068 sec\n",
            "\n",
            "Step: 68\n",
            "sampling model with mcmc... 611.801 sec\n",
            "updating mcmc with samples... 5.4895 sec\n",
            "computing sequence energies and correlations... 0.367826 sec\n",
            "increasing wait time to 10541\n",
            "resampling...\n",
            "sampling model with mcmc... 875.838 sec\n",
            "updating mcmc with samples... 5.48137 sec\n",
            "computing sequence energies and correlations... 0.369037 sec\n",
            "increasing wait time to 15812\n",
            "resampling...\n",
            "sampling model with mcmc... 1259.04 sec\n",
            "updating mcmc with samples... 5.43624 sec\n",
            "computing sequence energies and correlations... 0.380213 sec\n",
            "computing mcmc 1p and 2p statistics... 3.01024 sec\n",
            "computing error and updating gradient... 1.69211 sec\n",
            "update learning rate... 0.323991 sec\n",
            "updating parameters... 0.22179 sec\n",
            "\n",
            "Step: 69\n",
            "sampling model with mcmc... 1268.76 sec\n",
            "updating mcmc with samples... 5.5447 sec\n",
            "computing sequence energies and correlations... 0.381782 sec\n",
            "increasing wait time to 23718\n",
            "increasing burn-in time to 1751624\n",
            "resampling...\n",
            "sampling model with mcmc... 1892.57 sec\n",
            "updating mcmc with samples... 5.48475 sec\n",
            "computing sequence energies and correlations... 0.375068 sec\n",
            "increasing wait time to 35577\n",
            "resampling...\n",
            "sampling model with mcmc... 2759.65 sec\n",
            "updating mcmc with samples... 5.44906 sec\n",
            "computing sequence energies and correlations... 0.3694 sec\n",
            "computing mcmc 1p and 2p statistics... 3.90704 sec\n",
            "computing error and updating gradient... 1.96144 sec\n",
            "update learning rate... 0.607003 sec\n",
            "updating parameters... 0.223907 sec\n",
            "\n",
            "Step: 70\n",
            "sampling model with mcmc... 2773.1 sec\n",
            "updating mcmc with samples... 5.40882 sec\n",
            "computing sequence energies and correlations... 0.389258 sec\n",
            "decreasing wait time to 21346\n",
            "computing mcmc 1p and 2p statistics... 3.52881 sec\n",
            "computing error and updating gradient... 1.62983 sec\n",
            "update learning rate... 0.284163 sec\n",
            "updating parameters... 0.236978 sec\n",
            "\n",
            "Step: 71\n",
            "sampling model with mcmc... 1715.7 sec\n",
            "updating mcmc with samples... 5.4695 sec\n",
            "computing sequence energies and correlations... 0.385326 sec\n",
            "increasing wait time to 32019\n",
            "resampling...\n",
            "sampling model with mcmc... 2497.94 sec\n",
            "updating mcmc with samples... 5.41153 sec\n",
            "computing sequence energies and correlations... 0.377051 sec\n",
            "computing mcmc 1p and 2p statistics... 4.09533 sec\n",
            "computing error and updating gradient... 1.92384 sec\n",
            "update learning rate... 0.568328 sec\n",
            "updating parameters... 0.226369 sec\n",
            "\n",
            "Step: 72\n",
            "sampling model with mcmc... 2503.96 sec\n",
            "updating mcmc with samples... 5.42883 sec\n",
            "computing sequence energies and correlations... 0.367528 sec\n",
            "increasing burn-in time to 2627436\n",
            "resampling...\n",
            "sampling model with mcmc... 2560.81 sec\n",
            "updating mcmc with samples... 5.41149 sec\n",
            "computing sequence energies and correlations... 0.373105 sec\n",
            "computing mcmc 1p and 2p statistics... 4.25691 sec\n",
            "computing error and updating gradient... 2.04262 sec\n",
            "update learning rate... 0.523743 sec\n",
            "updating parameters... 0.304142 sec\n",
            "\n",
            "Step: 73\n",
            "sampling model with mcmc... 2572.54 sec\n",
            "updating mcmc with samples... 5.58141 sec\n",
            "computing sequence energies and correlations... 0.387753 sec\n",
            "decreasing wait time to 19211\n",
            "computing mcmc 1p and 2p statistics... 3.18554 sec\n",
            "computing error and updating gradient... 1.68097 sec\n",
            "update learning rate... 0.401843 sec\n",
            "updating parameters... 0.303335 sec\n",
            "\n",
            "Step: 74\n",
            "sampling model with mcmc... 1649.37 sec\n",
            "updating mcmc with samples... 5.36031 sec\n",
            "computing sequence energies and correlations... 0.383486 sec\n",
            "increasing wait time to 28817\n",
            "resampling...\n",
            "sampling model with mcmc... "
          ],
          "name": "stdout"
        }
      ]
    },
    {
      "cell_type": "code",
      "metadata": {
        "id": "YSQpLadwrr0U"
      },
      "source": [
        "!tar -czf boltzmann.tar.gz results/*"
      ],
      "execution_count": null,
      "outputs": []
    },
    {
      "cell_type": "markdown",
      "metadata": {
        "id": "1jVoi1llpyxy"
      },
      "source": [
        "#### Sampling"
      ]
    },
    {
      "cell_type": "markdown",
      "metadata": {
        "id": "Q27911vyqJQB"
      },
      "source": [
        "Change temperature in a config file"
      ]
    },
    {
      "cell_type": "code",
      "metadata": {
        "id": "yddxIEnwm_xx"
      },
      "source": [
        "%%shell\r\n",
        "bmdca_sample -p parameters.txt -d /content/results -o samples.txt -c config.conf"
      ],
      "execution_count": null,
      "outputs": []
    },
    {
      "cell_type": "code",
      "metadata": {
        "colab": {
          "base_uri": "https://localhost:8080/"
        },
        "id": "diPkGaKsmo7u",
        "outputId": "1b5170ec-1b41-4b15-dfd1-758811a7b4e1"
      },
      "source": [
        "!perl convert.pl lcc_pfam.txt lcc_pfam.fa"
      ],
      "execution_count": null,
      "outputs": [
        {
          "output_type": "stream",
          "text": [
            "\n",
            "Error: txt is not a valid input format option\n"
          ],
          "name": "stdout"
        }
      ]
    },
    {
      "cell_type": "markdown",
      "metadata": {
        "id": "joVJ3XmSCgoF"
      },
      "source": [
        "#### Likelihoods"
      ]
    },
    {
      "cell_type": "markdown",
      "metadata": {
        "id": "Z1Sfh6ppJABZ"
      },
      "source": [
        "Doesn't come with a function, so implement it ourselves by using the learned parameters $\\mathbf{h}, \\mathbf{J}$."
      ]
    },
    {
      "cell_type": "code",
      "metadata": {
        "id": "w-haHS_-KsNN",
        "colab": {
          "base_uri": "https://localhost:8080/"
        },
        "outputId": "e940882e-4d43-44fb-d02f-692861790721"
      },
      "source": [
        "AA = ['a', 'r', 'n', 'd', 'c', 'q', 'e', 'g', 'h', 'i', \r\n",
        "      'l', 'k', 'm', 'f', 'p', 's', 't', 'w', 'y', 'v', '-']\r\n",
        "AA_IDX = {AA[i]:i for i in range(len(AA))}\r\n",
        "IDX_AA = {i:AA[i].upper() for i in range(len(AA))}\r\n",
        "\r\n",
        "L = 6   # sequence length\r\n",
        "q = 21  # number of tokens  (this is 'A' in the GREMLIN code)\r\n",
        "\r\n",
        "h = np.random.randn(L*q)           # fields    (this is b0 in GREMLIN)\r\n",
        "J = np.random.randn(L*q, L*q)      # couplings (this is W0 in GREMLIN)\r\n",
        "\r\n",
        "\r\n",
        "# compute the energy logexp(.) for a sequence s\r\n",
        "\r\n",
        "def logE(s, h, J):\r\n",
        "    \"\"\"\r\n",
        "    s: sequence\r\n",
        "    h: fields vector (L*q)\r\n",
        "    J: couplings matrix (L*q, L*q)\r\n",
        "    \"\"\"\r\n",
        "    sum_h = 0\r\n",
        "    sum_J = 0\r\n",
        "    for i, aa in enumerate(s):\r\n",
        "        sum_h += h[i*q + aa]\r\n",
        "    for i, aa1 in enumerate(s):\r\n",
        "        for j, aa2 in enumerate(s):\r\n",
        "            sum_J += J[i*q + aa1, j*q + aa2]\r\n",
        "    return sum_h + sum_J\r\n",
        "\r\n",
        "# convert list of M sequences of length L each into an MxL matrix of numbers in [0,20]\r\n",
        "\r\n",
        "def seq2num(s):\r\n",
        "    nums = []\r\n",
        "    for aa in s:\r\n",
        "        nums.append(AA_IDX[aa.lower()])\r\n",
        "    return nums\r\n",
        "\r\n",
        "def get_numerical_aas(fname):\r\n",
        "    mat = []\r\n",
        "    s = \"\"\r\n",
        "    with open(fname) as f:\r\n",
        "        line = f.readline()\r\n",
        "        while line:\r\n",
        "            if line.startswith(\">\"):\r\n",
        "                if s != \"\":\r\n",
        "                    mat.append(seq2num(s))\r\n",
        "                s = \"\"\r\n",
        "            elif len(line) > 0:\r\n",
        "                s += line.strip()\r\n",
        "            line = f.readline()\r\n",
        "        mat.append(seq2num(s))\r\n",
        "    return np.array(mat)\r\n",
        "\r\n",
        "get_numerical_aas(\"test.fasta\")"
      ],
      "execution_count": 23,
      "outputs": [
        {
          "output_type": "execute_result",
          "data": {
            "text/plain": [
              "array([[12,  2, 13, 14,  1,  0],\n",
              "       [15,  5, 10, 11,  6,  2]])"
            ]
          },
          "metadata": {
            "tags": []
          },
          "execution_count": 23
        }
      ]
    },
    {
      "cell_type": "markdown",
      "metadata": {
        "id": "H0uPo1SgJLVg"
      },
      "source": [
        "Get the in-distribution sequences (this is just the training data)"
      ]
    },
    {
      "cell_type": "code",
      "metadata": {
        "id": "lLQoTImoJNxZ"
      },
      "source": [
        "import numpy as np\r\n",
        "\r\n",
        "in_dist = get_numerical_aas(\"test.fasta\")"
      ],
      "execution_count": 22,
      "outputs": []
    },
    {
      "cell_type": "markdown",
      "metadata": {
        "id": "1ZKGXmQRJN-4"
      },
      "source": [
        "Get the out-of-distribution sequences. We construct these sequences in the following ways:\r\n",
        "\r\n",
        "\r\n",
        "\r\n",
        "*   Let $S$ be an in-distribution sequence. We take $S'$ to be the shuffled $S$ which is likely out-of-distribution.\r\n",
        "*   Let $S=S_1S_2$ be an in-distribution sequence. We assume that $S''=S_2S_1$ is out-of-distribution. This corresponds to swapping the two ends of the protein chain which is likely to disrupt the protein fold.\r\n",
        "\r\n"
      ]
    },
    {
      "cell_type": "code",
      "metadata": {
        "id": "PB-bIHyNCiO8"
      },
      "source": [
        "out_dist1 = np.array([np.random.permutation(s) for s in in_dist])"
      ],
      "execution_count": 24,
      "outputs": []
    },
    {
      "cell_type": "code",
      "metadata": {
        "id": "SymUQGEin1fl"
      },
      "source": [
        "out_dist2 = np.array([np.concatenate((s[int(L/2):], s[:int(L/2)])) for s in in_dist])"
      ],
      "execution_count": 25,
      "outputs": []
    },
    {
      "cell_type": "markdown",
      "metadata": {
        "id": "mz5G8-cIwKqt"
      },
      "source": [
        "Compute $\\log \\frac{P(S)}{P(S')}$"
      ]
    },
    {
      "cell_type": "code",
      "metadata": {
        "colab": {
          "base_uri": "https://localhost:8080/"
        },
        "id": "6GccB8IPwUM4",
        "outputId": "dbf72ff4-6640-495a-b2ef-326b2f432114"
      },
      "source": [
        "for i in range(len(in_dist)):\r\n",
        "    print(logE(in_dist[i], h, J) - logE(out_dist1[i], h, J))"
      ],
      "execution_count": 27,
      "outputs": [
        {
          "output_type": "stream",
          "text": [
            "-13.234955596679765\n",
            "12.768678655272508\n"
          ],
          "name": "stdout"
        }
      ]
    },
    {
      "cell_type": "markdown",
      "metadata": {
        "id": "KdcQbhf2wX1R"
      },
      "source": [
        "Compute $\\log \\frac{P(S)}{P(S'')}$"
      ]
    },
    {
      "cell_type": "code",
      "metadata": {
        "colab": {
          "base_uri": "https://localhost:8080/"
        },
        "id": "1AimO4_bwY9Z",
        "outputId": "55a8e34a-ae0d-465d-9348-8fb134c42e4a"
      },
      "source": [
        "for i in range(len(in_dist)):\r\n",
        "    print(logE(in_dist[i], h, J) - logE(out_dist2[i], h, J))"
      ],
      "execution_count": 28,
      "outputs": [
        {
          "output_type": "stream",
          "text": [
            "-5.546759734304293\n",
            "-11.50932788954155\n"
          ],
          "name": "stdout"
        }
      ]
    },
    {
      "cell_type": "markdown",
      "metadata": {
        "id": "vZ9dXZ5yh8Kb"
      },
      "source": [
        "### Contrastive Divergence"
      ]
    },
    {
      "cell_type": "code",
      "metadata": {
        "id": "EkD-Lc-Dh9S9"
      },
      "source": [
        ""
      ],
      "execution_count": null,
      "outputs": []
    },
    {
      "cell_type": "markdown",
      "metadata": {
        "id": "t8U_SNKzh-_w"
      },
      "source": [
        "### Model evaluation"
      ]
    },
    {
      "cell_type": "code",
      "metadata": {
        "id": "P2AVm-RCiAkp"
      },
      "source": [
        "!git clone https://github.com/igemto-drylab/CSBERG-ML.git\r\n",
        "%cd CSBERG-ML\r\n",
        "from util import *"
      ],
      "execution_count": null,
      "outputs": []
    }
  ]
}