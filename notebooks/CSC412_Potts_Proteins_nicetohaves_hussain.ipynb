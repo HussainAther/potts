{
 "cells": [
  {
   "cell_type": "markdown",
   "metadata": {},
   "source": [
    "# Training Potts Models with Contrastive Divergence for Protein Design\n",
    "\n",
    "This notebook contains the \"Nice to haves\" for the project."
   ]
  },
  {
   "cell_type": "code",
   "execution_count": null,
   "metadata": {},
   "outputs": [],
   "source": [
    "!git clone https://github.com/igemto-drylab/CSBERG-ML.git\n",
    "%cd CSBERG-ML\n",
    "from util import *\n",
    "import tqdm.notebook as tq\n",
    "%cd .."
   ]
  },
  {
   "cell_type": "code",
   "execution_count": null,
   "metadata": {},
   "outputs": [],
   "source": [
    "plt.rcParams['figure.dpi'] = 350"
   ]
  },
  {
   "cell_type": "code",
   "execution_count": null,
   "metadata": {},
   "outputs": [],
   "source": [
    "!git clone https://github.com/ranganathanlab/bmDCA.git"
   ]
  },
  {
   "cell_type": "code",
   "execution_count": null,
   "metadata": {},
   "outputs": [],
   "source": [
    "!sudo apt-get update\n",
    "!sudo apt-get install git gcc g++ automake autoconf pkg-config \\\n",
    "  libarmadillo-dev libopenblas-dev libarpack++2-dev"
   ]
  },
  {
   "cell_type": "code",
   "execution_count": null,
   "metadata": {},
   "outputs": [],
   "source": [
    "%cd bmDCA\n",
    "!bash autogen.sh --prefix=/usr/local && \\\n",
    "%cd .."
   ]
  },
  {
   "cell_type": "code",
   "execution_count": null,
   "metadata": {},
   "outputs": [],
   "source": [
    "%%shell\n",
    "cd bmDCA\n",
    "make -j4 && \\\n",
    "make install\n",
    "cd .."
   ]
  },
  {
   "cell_type": "code",
   "execution_count": null,
   "metadata": {},
   "outputs": [],
   "source": [
    "!mkdir results"
   ]
  },
  {
   "cell_type": "code",
   "execution_count": null,
   "metadata": {},
   "outputs": [],
   "source": [
    "%cd /content"
   ]
  },
  {
   "cell_type": "code",
   "execution_count": 1,
   "metadata": {},
   "outputs": [],
   "source": [
    "import numpy as np\n",
    "import torch\n",
    "import torch.nn as nn\n",
    "import tqdm.notebook as tq\n",
    "import random\n",
    "\n",
    "from torch import optim\n",
    "from torch.utils.data import DataLoader, Dataset\n",
    "from util import *"
   ]
  },
  {
   "cell_type": "code",
   "execution_count": 2,
   "metadata": {},
   "outputs": [],
   "source": [
    "class GREMLIN(torch.nn.Module):\n",
    "    def __init__(self,L,A):\n",
    "        super(GREMLIN, self).__init__()\n",
    "        self.W0 = torch.nn.Parameter(torch.zeros(L*A,L*A), requires_grad=True)\n",
    "        self.b0 = torch.nn.Parameter(torch.zeros(L*A), requires_grad=True)\n",
    "        self.MASK = (1.0 -torch.eye(L*A)).to(device)\n",
    "\n",
    "    def forward(self, X):\n",
    "        X = X.reshape(-1,L*A)\n",
    "        W = (self.W0+self.W0)/2.0 * self.MASK\n",
    "   \n",
    "        MSA_pred = (X.mm(W)+self.b0).reshape(-1,L,A)\n",
    "        loss = torch.sum(- msa * F.log_softmax(MSA_pred, -1))\n",
    "        L2_w = torch.square(W).sum() * 0.01 * 0.5 *L*A\n",
    "        L2_b = torch.square(self.b0).sum() * 0.01\n",
    "        loss = loss + L2_w + L2_b\n",
    "        return loss\n",
    "\n",
    "class Model(torch.nn.Module):\n",
    "    def __init__(self,L,A):\n",
    "        super(Model, self).__init__()\n",
    "        self.GREMLIN_ = GREMLIN(L,A)\n",
    "    \n",
    "    def forward(self,X):\n",
    "        loss = self.GREMLIN_(X)\n",
    "        return loss"
   ]
  },
  {
   "cell_type": "code",
   "execution_count": 3,
   "metadata": {},
   "outputs": [],
   "source": [
    "def read_fasta(fname, onehot=True):\n",
    "    seqs = []\n",
    "    seq_list = []\n",
    "    s = \"\"\n",
    "    with open(fname) as f:\n",
    "        line = f.readline()\n",
    "        while line:\n",
    "            if line.startswith(\">\"):\n",
    "                if s != \"\":\n",
    "                    seqs.append(s)\n",
    "                s = \"\"\n",
    "            elif len(line) > 0:\n",
    "                s += line.strip()\n",
    "            line = f.readline()\n",
    "        seqs.append(s)\n",
    "        seq_list.append(list(s))\n",
    "    if onehot:\n",
    "        return get_X(seqs)\n",
    "    else:\n",
    "        return np.array(seqs)\n",
    "        \n",
    "\n",
    "def read_fasta_seqs(fname):\n",
    "    seqs = []\n",
    "    s = \"\"\n",
    "    with open(fname) as f:\n",
    "        line = f.readline()\n",
    "        while line:\n",
    "            if line.startswith(\">\"):\n",
    "                if s != \"\":\n",
    "                    seqs.append(list(s))\n",
    "                s = \"\"\n",
    "            elif len(line) > 0:\n",
    "                s += line.strip()\n",
    "            line = f.readline()\n",
    "        seqs.append(list(s))\n",
    "    return np.array(seqs)"
   ]
  },
  {
   "cell_type": "code",
   "execution_count": 4,
   "metadata": {},
   "outputs": [],
   "source": [
    "def trim_seqs(seqs, save_name):\n",
    "    \"\"\"\n",
    "    seqs: sequences (list of letters not one-hot encoded)\n",
    "    save_name: output fasta filename\n",
    "    returns: mask (1 for kept positions, 0 for discarded positions)\n",
    "    \"\"\"\n",
    "    mask = np.zeros(len(seqs[0]), dtype=np.bool)\n",
    "    for i in range(len(seqs[0])):\n",
    "        gaps = 0\n",
    "        for s in seqs:\n",
    "            if s[i] == '-':\n",
    "                gaps += 1\n",
    "        if gaps/len(seqs) < 0.67:   # keep positions where less than 2/3rd are gaps\n",
    "            mask[i] = True\n",
    "    seqs = seqs[:,mask]\n",
    "\n",
    "    towrite = \"\"\n",
    "    for i in range(len(seqs)):\n",
    "        if sum(seqs[i][100:] == \"-\") < 50:  # don't take sequences with many gaps\n",
    "            towrite += \">{}\\n\".format(i)\n",
    "            seq = \"\".join(seqs[i][:]) + \"\\n\"\n",
    "            towrite += seq.upper()   \n",
    "    with open(save_name,'w') as f:\n",
    "        f.write(towrite)\n",
    "    return mask"
   ]
  },
  {
   "cell_type": "code",
   "execution_count": 5,
   "metadata": {},
   "outputs": [
    {
     "name": "stderr",
     "output_type": "stream",
     "text": [
      "/Users/syedather/opt/anaconda3/envs/jpy3/lib/python3.7/site-packages/ipykernel_launcher.py:7: DeprecationWarning: `np.bool` is a deprecated alias for the builtin `bool`. To silence this warning, use `bool` by itself. Doing this will not modify any behavior and is safe. If you specifically wanted the numpy scalar type, use `np.bool_` here.\n",
      "Deprecated in NumPy 1.20; for more details and guidance: https://numpy.org/devdocs/release/1.20.0-notes.html#deprecations\n",
      "  import sys\n"
     ]
    }
   ],
   "source": [
    "seqs = read_fasta_seqs(\"lcc_pfam.txt\")\n",
    "mask = trim_seqs(seqs, \"lcc_short.fasta\")"
   ]
  },
  {
   "cell_type": "code",
   "execution_count": 6,
   "metadata": {},
   "outputs": [
    {
     "name": "stdout",
     "output_type": "stream",
     "text": [
      "{0: 165, 1: 166, 2: 167, 3: 168, 4: 169, 5: 170, 6: 172, 7: 173, 8: 174, 9: 175, 10: 177, 11: 179, 12: 181, 13: 182, 14: 183, 15: 184, 16: 192, 17: 193, 18: 194, 19: 195, 20: 197, 21: 200, 22: 205, 23: 213, 24: 221, 25: 231, 26: 241, 27: 250, 28: 260, 29: 269, 30: 271, 31: 272, 32: 290, 33: 291, 34: 295, 35: 299, 36: 304, 37: 309, 38: 317, 39: 322, 40: 328, 41: 338, 42: 345, 43: 351, 44: 360, 45: 366, 46: 379, 47: 389, 48: 392, 49: 396, 50: 404, 51: 414, 52: 418, 53: 427, 54: 431, 55: 435, 56: 439, 57: 440, 58: 441, 59: 502, 60: 503, 61: 505, 62: 509, 63: 513, 64: 517, 65: 520, 66: 524, 67: 529, 68: 534, 69: 540, 70: 545, 71: 551, 72: 561, 73: 569, 74: 574, 75: 583, 76: 591, 77: 598, 78: 608, 79: 617, 80: 626, 81: 633, 82: 641, 83: 648, 84: 652, 85: 656, 86: 659, 87: 660, 88: 694, 89: 698, 90: 702, 91: 706, 92: 710, 93: 716, 94: 722, 95: 730, 96: 737, 97: 744, 98: 751, 99: 759, 100: 769, 101: 783, 102: 798, 103: 809, 104: 816, 105: 822, 106: 829, 107: 832, 108: 836, 109: 838, 110: 848, 111: 852, 112: 860, 113: 872, 114: 881, 115: 891, 116: 898, 117: 908, 118: 920, 119: 934, 120: 946, 121: 963, 122: 980, 123: 996, 124: 1012, 125: 1022, 126: 1038, 127: 1054, 128: 1069, 129: 1082, 130: 1093, 131: 1107, 132: 1117, 133: 1127, 134: 1134, 135: 1136, 136: 1196, 137: 1198, 138: 1200, 139: 1203, 140: 1206, 141: 1209, 142: 1215, 143: 1220, 144: 1226, 145: 1232, 146: 1239, 147: 1245, 148: 1252, 149: 1261, 150: 1270, 151: 1277, 152: 1283, 153: 1291, 154: 1295, 155: 1301, 156: 1304, 157: 1306, 158: 1310, 159: 1313, 160: 1322, 161: 1325, 162: 1329, 163: 1333, 164: 1336, 165: 1341, 166: 1345, 167: 1348, 168: 1373, 169: 1375, 170: 1377, 171: 1382, 172: 1391, 173: 1399, 174: 1408, 175: 1415, 176: 1424, 177: 1436, 178: 1447, 179: 1466, 180: 1478, 181: 1489, 182: 1500, 183: 1507, 184: 1516, 185: 1521, 186: 1527, 187: 1531, 188: 1538, 189: 1548, 190: 1556, 191: 1560, 192: 1571, 193: 1578, 194: 1585, 195: 1590, 196: 1593, 197: 1596, 198: 1598, 199: 1600, 200: 1601, 201: 1602, 202: 1646, 203: 1647, 204: 1648, 205: 1651, 206: 1654, 207: 1657, 208: 1660, 209: 1663, 210: 1667, 211: 1671, 212: 1675, 213: 1678, 214: 1680, 215: 1686, 216: 1688, 217: 1689, 218: 1690, 219: 1691, 220: 1692, 221: 1693, 222: 1694, 223: 1695, 224: 1697, 225: 1698, 226: 1699}\n"
     ]
    }
   ],
   "source": [
    "i = 0\n",
    "j = 0\n",
    "trim2ali = {} # maps index of trimmed sequence to index of aligned sequence\n",
    "while j < len(mask):\n",
    "    if mask[j] == 1:\n",
    "        trim2ali[i] = j\n",
    "        i += 1\n",
    "    j += 1\n",
    "print(trim2ali)"
   ]
  },
  {
   "cell_type": "code",
   "execution_count": 7,
   "metadata": {},
   "outputs": [
    {
     "name": "stdout",
     "output_type": "stream",
     "text": [
      "{167: 65, 168: 66, 169: 67, 170: 68, 177: 69, 179: 70, 181: 71, 182: 72, 183: 73, 184: 74, 185: 75, 192: 76, 193: 77, 194: 78, 195: 79, 197: 80, 200: 81, 205: 82, 213: 83, 221: 84, 231: 85, 241: 86, 250: 87, 260: 88, 269: 89, 271: 90, 272: 91, 290: 92, 291: 93, 295: 94, 299: 95, 304: 96, 309: 97, 317: 98, 322: 99, 328: 100, 338: 101, 345: 102, 351: 103, 360: 104, 366: 105, 379: 106, 389: 107, 392: 108, 396: 109, 404: 110, 414: 111, 418: 112, 427: 113, 431: 114, 435: 115, 439: 116, 440: 117, 441: 118, 502: 119, 503: 120, 505: 121, 509: 122, 513: 123, 517: 124, 520: 125, 524: 126, 529: 127, 534: 128, 540: 129, 545: 130, 551: 131, 561: 132, 569: 133, 574: 134, 583: 135, 591: 136, 598: 137, 608: 138, 648: 139, 652: 140, 656: 141, 659: 142, 660: 143, 730: 144, 737: 145, 744: 146, 751: 147, 759: 148, 769: 149, 783: 150, 798: 151, 809: 152, 816: 153, 822: 154, 829: 155, 832: 156, 836: 157, 838: 158, 848: 159, 852: 160, 860: 161, 872: 162, 881: 163, 891: 164, 898: 165, 908: 166, 920: 167, 934: 168, 946: 169, 963: 170, 980: 171, 996: 172, 1012: 173, 1022: 174, 1038: 175, 1054: 176, 1069: 177, 1082: 178, 1093: 179, 1107: 180, 1117: 181, 1127: 182, 1134: 183, 1136: 184, 1203: 185, 1206: 186, 1209: 187, 1215: 188, 1220: 189, 1226: 190, 1232: 191, 1239: 192, 1245: 193, 1252: 194, 1261: 195, 1270: 196, 1277: 197, 1283: 198, 1291: 199, 1295: 200, 1301: 201, 1304: 202, 1306: 203, 1310: 204, 1313: 205, 1322: 206, 1325: 207, 1329: 208, 1333: 209, 1336: 210, 1341: 211, 1345: 212, 1348: 213, 1373: 214, 1375: 215, 1377: 216, 1381: 217, 1382: 218, 1391: 219, 1399: 220, 1408: 221, 1415: 222, 1436: 223, 1447: 224, 1466: 225, 1478: 226, 1489: 227, 1500: 228, 1507: 229, 1516: 230, 1697: 231, 1698: 232, 1699: 233, 1700: 234, 1701: 235, 1702: 236, 1703: 237, 1704: 238, 1705: 239, 1706: 240, 1707: 241, 1708: 242, 1709: 243, 1710: 244, 1711: 245, 1712: 246, 1713: 247, 1714: 248, 1715: 249, 1716: 250, 1717: 251, 1718: 252, 1719: 253, 1720: 254, 1721: 255, 1722: 256, 1723: 257, 1724: 258, 1725: 259, 1726: 260, 1727: 261, 1728: 262}\n"
     ]
    }
   ],
   "source": [
    "# map index of aligned sequence to residue index on the protein structure\n",
    "aligned = \"\"\"------------------------------------------------------------\n",
    "------------------------------------------------------------\n",
    "-----------------------------------------------AGTV------Y-Y\n",
    "-PTNAG------GTVG-A--I----A-------I-------V---------P--------\n",
    "-G--------Y---------T--------A-RQ-----------------SS---I---K\n",
    "----W----W-------G----P-----R---------L------A-----S--------\n",
    "H-----G------------F---------V--V---I-------T---------I---D-\n",
    "-------T---N---S---TLD--------------------------------------\n",
    "----------------------QP-S---S---R---S--S---Q----Q----M-----\n",
    "A----A-----L---------R-------Q----V--------A-------S------L-\n",
    "--------N---------------------------------------G---T---S--S\n",
    "S-----------------------------------------------------------\n",
    "----------P------I------Y------G-------K---------V----------\n",
    "---D--------------T----------A------R-----M------G--V---M-G-\n",
    "--------W---S-------M-----------G--------G---------G------G-\n",
    "--------S-----------L-------------I-----------S-------------\n",
    "---A----------------A---------------N---------------N-------\n",
    "--P---------------S---------------L--------------K----------\n",
    "--A----------A-------------A---------P---------Q------A-P---\n",
    "------------------------------------------------------------\n",
    "---W--D--S-----S----T-----N-----F------S-----S------V-------\n",
    "-T--------V------P-----T-------L---I-----F--A-C---E--N------\n",
    "--D--S---I---A--P----V---N--S------------------------S-A-L--\n",
    "-PI--------Y-------D--------S------M--------------------S---\n",
    "-------R------------------N-----------A----------K----------\n",
    "Q------F--------L-------------------------------------------\n",
    "------------------------------------------------------------\n",
    "------------------------------------------------------------\n",
    "-----------------EINGGSHSCANSGNSNQALIGKKGVAWMKRFM-----------\n",
    "------------------------------------------------------------\n",
    "--------------------------------\"\"\".replace('\\n','')\n",
    "\n",
    "short = \"\"\"--AGTV----YYPTNAGTVGAIAIVPGYTARQSSIKWWGPRLASHGFVV\n",
    "ITIDTNSTLDQPSSRSSQQMAALRQVASLN----GTSSS-------PIYGKVDTARMGVM\n",
    "GWSMGGGGSLISAANNPSLKAAAPQAP---WDSSTNFSSVTVPTLIFACENDSIAPVNSS\n",
    "ALIYDSM-SRNAKQFL---------------------------------------EIN\"\"\".replace('\\n','')\n",
    "\n",
    "protein = \"\"\"MNFPRASRLMQAAVLGGLMAVSAAATAQTNPYARGPNPTAASLEASAGPFTVRSFTVSRPS\n",
    "GYGAGTVYYPTNAGGTVGAIAIVPGYTARQSSIKWWGPRLASHGFVVITIDTNSTLDQPS\n",
    "SRSSQQMAALRQVASLNGTSSSPIYGKVDTARMGVMGWSMGGGGSLISAANNPSLKAAAP\n",
    "QAPWDSSTNFSSVTVPTLIFACENDSIAPVNSSALPIYDSMSRNAKQFLEINGGSHSCAN\n",
    "SGNSNQALIGKKGVAWMKRFMDNDTRYSTFACENPNSTRVSDFRTANCSLEHHHHHH\"\"\".replace('\\n','')\n",
    "\n",
    "ali2prot = {}\n",
    "i = 0\n",
    "j = 65 - 1\n",
    "while i < len(aligned):\n",
    "    if aligned[i] != \"-\":\n",
    "        if aligned[i] == protein[j]:\n",
    "            ali2prot[i] = j + 1\n",
    "            j += 1\n",
    "        else:\n",
    "            raise KeyError\n",
    "    i += 1\n",
    "print(ali2prot)"
   ]
  },
  {
   "cell_type": "code",
   "execution_count": 8,
   "metadata": {},
   "outputs": [
    {
     "name": "stdout",
     "output_type": "stream",
     "text": [
      "--AGTV----YYPTNAGTVGAIAIVPGYTARQSSIKWWGPRLASHGFVVITIDTNSTLDQPSSRSSQQMAALRQVASLN----GTSSS-------PIYGKVDTARMGVMGWSMGGGGSLISAANNPSLKAAAPQAP---WDSSTNFSSVTVPTLIFACENDSIAPVNSSALIYDSM-SRNAKQFL---------------------------------------EIN\n"
     ]
    },
    {
     "name": "stderr",
     "output_type": "stream",
     "text": [
      "/Users/syedather/opt/anaconda3/envs/jpy3/lib/python3.7/site-packages/ipykernel_launcher.py:1: DeprecationWarning: `np.int` is a deprecated alias for the builtin `int`. To silence this warning, use `int` by itself. Doing this will not modify any behavior and is safe. When replacing `np.int`, you may wish to use e.g. `np.int64` or `np.int32` to specify the precision. If you wish to review your current use, check the release note link for additional information.\n",
      "Deprecated in NumPy 1.20; for more details and guidance: https://numpy.org/devdocs/release/1.20.0-notes.html#deprecations\n",
      "  \"\"\"Entry point for launching an IPython kernel.\n"
     ]
    }
   ],
   "source": [
    "idx = np.array(list(trim2ali.values())).astype(np.int)\n",
    "ali = np.array(list(aligned))\n",
    "print(\"\".join(list(ali[idx])))"
   ]
  },
  {
   "cell_type": "code",
   "execution_count": 23,
   "metadata": {},
   "outputs": [
    {
     "name": "stdout",
     "output_type": "stream",
     "text": [
      "(15028, 227, 21)\n"
     ]
    }
   ],
   "source": [
    "msa = read_fasta(\"lcc_short.fasta\")\n",
    "print(msa.shape)\n",
    "N, L, A = msa.shape\n",
    "msa = torch.from_numpy(msa)\n",
    "msa = msa.type(torch.FloatTensor).to(device)"
   ]
  },
  {
   "cell_type": "code",
   "execution_count": 10,
   "metadata": {},
   "outputs": [],
   "source": [
    "def map_index(l):\n",
    "    \"\"\"\n",
    "    l: list of indices of the trimmed sequences\n",
    "    returns: corresponding protein structure indices\n",
    "    \"\"\"\n",
    "    idx = []\n",
    "    for i in l:\n",
    "        try:\n",
    "            idx.append(ali2prot[trim2ali[i]])\n",
    "        except KeyError:\n",
    "            idx.append(0)\n",
    "    return idx"
   ]
  },
  {
   "cell_type": "code",
   "execution_count": 11,
   "metadata": {},
   "outputs": [],
   "source": [
    "beta_carbons = []\n",
    "with open(\"CSBERG-ML/1gfp_h.pdb\", 'r') as f:\n",
    "    line = f.readline()\n",
    "    line = f.readline()\n",
    "    while line:\n",
    "        data = line.split()\n",
    "        if data[2] == 'CB' or data[2] == 'HA1':\n",
    "            beta_carbons.append([float(data[6]), float(data[7]), float(data[8])])\n",
    "        line = f.readline()\n",
    "\n",
    "coords = np.array(beta_carbons[1:])\n",
    "dists = np.zeros((len(coords), len(coords)))\n",
    "for i, curr in enumerate(coords):\n",
    "    dists[:,i] = np.linalg.norm(coords - curr, axis=1)"
   ]
  },
  {
   "cell_type": "code",
   "execution_count": 12,
   "metadata": {},
   "outputs": [],
   "source": [
    "def get_precision(L2, L5):\n",
    "    for l in [L2, L5]:\n",
    "        p = 0\n",
    "        a = map_index(list(l.flatten()))\n",
    "        a = np.array(a).reshape(-1,2) - 29 # structure index starts at 29\n",
    "        for row in a:\n",
    "            if row[0] != 0 and row[1] != 0:\n",
    "                if dists[row[0], row[1]] < 8.0:\n",
    "                    p += 1\n",
    "        print(p/len(L2))"
   ]
  },
  {
   "cell_type": "code",
   "execution_count": 15,
   "metadata": {},
   "outputs": [],
   "source": [
    "device = torch.device(\"cuda:0\" if torch.cuda.is_available() else \"cpu\")\n",
    "\n",
    "model = Model(L, A).to(device)\n",
    "learning_rate = 0.1*np.log(N)/L\n",
    "optimizer = optim.Adam(model.parameters(), lr=learning_rate)"
   ]
  },
  {
   "cell_type": "code",
   "execution_count": 24,
   "metadata": {},
   "outputs": [
    {
     "data": {
      "application/vnd.jupyter.widget-view+json": {
       "model_id": "471f6b54a4914ac585628db4863d9387",
       "version_major": 2,
       "version_minor": 0
      },
      "text/plain": [
       "  0%|          | 0/100 [00:00<?, ?it/s]"
      ]
     },
     "metadata": {},
     "output_type": "display_data"
    },
    {
     "data": {
      "image/png": "[encoded data removed]",
      "text/plain": [
       "<Figure size 1800x1200 with 1 Axes>"
      ]
     },
     "metadata": {
      "needs_background": "light"
     },
     "output_type": "display_data"
    }
   ],
   "source": [
    "losses = []\n",
    "for t in tq.tqdm(range(100)):\n",
    "    loss = model(msa)      \n",
    "    optimizer.zero_grad()    \n",
    "    loss.backward()\n",
    "    optimizer.step()\n",
    "    losses.append(loss.item())\n",
    "\n",
    "plt.plot(losses)\n",
    "plt.title(\"GREMLIN Training Loss\")\n",
    "plt.xlabel(\"Epochs\")\n",
    "plt.ylabel(\"Loss\")\n",
    "plt.show()"
   ]
  },
  {
   "cell_type": "code",
   "execution_count": 25,
   "metadata": {},
   "outputs": [],
   "source": [
    "w = model.GREMLIN_.W0.cpu().detach().numpy()\n",
    "w = (w+w.T).reshape(L,A,L,A)\n",
    "h = model.GREMLIN_.b0.cpu().detach().numpy()\n",
    "np.save(\"gremlin_h_lcc.npy\", h)\n",
    "np.save(\"gremlin_J_lcc.npy\", w)\n",
    "\n",
    "\n",
    "def get_mtx(W):\n",
    "  # l2norm of 20x20 matrices (note: we ignore gaps)\n",
    "  raw = np.sqrt(np.sum(np.square(W[:,:,:,:]),(1,3)))\n",
    "  np.fill_diagonal(raw,0)\n",
    "  # apc (average product correction)\n",
    "  ap = np.sum(raw,0,keepdims=True)*np.sum(raw,1,keepdims=True)/np.sum(raw)\n",
    "  apc = raw - ap\n",
    "  np.fill_diagonal(apc,0)\n",
    "  return(raw,apc)"
   ]
  },
  {
   "cell_type": "code",
   "execution_count": 26,
   "metadata": {},
   "outputs": [],
   "source": [
    "\n",
    "def get_contacts(w, showContacts=True):\n",
    "    \"\"\"\n",
    "    w:            (L, 21, L, 21) numpy array corresponding to the J parameter\n",
    "    showContacts: When True, shows the couplings matrix before and after APC\n",
    "    \"\"\"\n",
    "    raw, apc = get_mtx(w)\n",
    "    raw_copy = np.copy(raw)\n",
    "    apc_copy = np.copy(apc)\n",
    "    for i in range(len(apc)):\n",
    "        for j in range(len(apc)):\n",
    "            if abs(i-j) < 7:\n",
    "                apc_copy[i,j] = 0\n",
    "                raw_copy[i,j] = 0\n",
    "    if showContacts:\n",
    "        plt.figure(figsize=(10,5))\n",
    "        plt.subplot(1,2,1)\n",
    "        plt.imshow(raw_copy)\n",
    "        plt.grid(False)\n",
    "        plt.title(\"Before APC\")\n",
    "        plt.xlabel(\"Residue Index\")\n",
    "        plt.ylabel(\"Residue Index\")\n",
    "        plt.subplot(1,2,2)\n",
    "        plt.imshow(apc_copy)\n",
    "        plt.xlabel(\"Residue Index\")\n",
    "        plt.grid(False)\n",
    "        plt.title(\"After APC\")\n",
    "        plt.show()\n",
    "    apc_copy = (apc_copy - np.min(apc_copy))/(np.max(apc_copy) - np.min(apc_copy))\n",
    "    strengths = {}\n",
    "    for i in range(len(apc)):\n",
    "        for j in range(i, len(apc)):\n",
    "            strengths[(i,j)] = apc_copy[i,j] \n",
    "    contacts = list(strengths.keys())\n",
    "    contacts = sorted(contacts, key=lambda x: strengths[x], reverse=True)\n",
    "    for i in range(len(contacts)):\n",
    "        contacts[i] = list(contacts[i])\n",
    "    L_2 = np.array(contacts[:int(len(apc) / 2)])    # @L/2\n",
    "    L_5 = np.array(contacts[:int(len(apc) / 5)])    # @L/5\n",
    "    return L_2, L_5\n",
    "\n",
    "L2, L5 = get_contacts(w, showContacts=False)\n"
   ]
  },
  {
   "cell_type": "code",
   "execution_count": 27,
   "metadata": {},
   "outputs": [],
   "source": [
    "model = Model(L,A).to(device)\n",
    "\n",
    "h = model.GREMLIN_.b0.detach()\n",
    "J = model.GREMLIN_.W0.detach()\n",
    "J = (J + J.T)"
   ]
  },
  {
   "cell_type": "code",
   "execution_count": null,
   "metadata": {},
   "outputs": [],
   "source": []
  }
 ],
 "metadata": {
  "kernelspec": {
   "display_name": "Python 3",
   "language": "python",
   "name": "python3"
  },
  "language_info": {
   "codemirror_mode": {
    "name": "ipython",
    "version": 3
   },
   "file_extension": ".py",
   "mimetype": "text/x-python",
   "name": "python",
   "nbconvert_exporter": "python",
   "pygments_lexer": "ipython3",
   "version": "3.7.0"
  }
 },
 "nbformat": 4,
 "nbformat_minor": 4
}
