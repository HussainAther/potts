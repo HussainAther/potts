{
 "cells": [
  {
   "cell_type": "markdown",
   "metadata": {},
   "source": [
    "# Training Potts Models with Contrastive Divergence for Protein Design\n",
    "\n",
    "This notebook contains the \"Nice to haves\" for the project."
   ]
  },
  {
   "cell_type": "code",
   "execution_count": 1,
   "metadata": {},
   "outputs": [
    {
     "name": "stdout",
     "output_type": "stream",
     "text": [
      "fatal: destination path 'CSBERG-ML' already exists and is not an empty directory.\n",
      "/Users/syedather/Desktop/research/griffiths/potts/notebooks/CSBERG-ML\n",
      "/Users/syedather/Desktop/research/griffiths/potts/notebooks\n"
     ]
    }
   ],
   "source": [
    "!git clone https://github.com/igemto-drylab/CSBERG-ML.git\n",
    "%cd CSBERG-ML\n",
    "from util import *\n",
    "import tqdm.notebook as tq\n",
    "%cd .."
   ]
  },
  {
   "cell_type": "code",
   "execution_count": 2,
   "metadata": {},
   "outputs": [],
   "source": [
    "plt.rcParams['figure.dpi'] = 350"
   ]
  },
  {
   "cell_type": "code",
   "execution_count": 3,
   "metadata": {},
   "outputs": [
    {
     "name": "stdout",
     "output_type": "stream",
     "text": [
      "fatal: destination path 'bmDCA' already exists and is not an empty directory.\r\n"
     ]
    }
   ],
   "source": [
    "!git clone https://github.com/ranganathanlab/bmDCA.git"
   ]
  },
  {
   "cell_type": "code",
   "execution_count": null,
   "metadata": {},
   "outputs": [
    {
     "name": "stdout",
     "output_type": "stream",
     "text": [
      "Password:"
     ]
    }
   ],
   "source": [
    "!sudo apt-get update\n",
    "!sudo apt-get install git gcc g++ automake autoconf pkg-config \\\n",
    "  libarmadillo-dev libopenblas-dev libarpack++2-dev"
   ]
  },
  {
   "cell_type": "code",
   "execution_count": null,
   "metadata": {},
   "outputs": [],
   "source": [
    "%cd bmDCA\n",
    "!bash autogen.sh --prefix=/usr/local && \\\n",
    "%cd .."
   ]
  },
  {
   "cell_type": "code",
   "execution_count": null,
   "metadata": {},
   "outputs": [],
   "source": [
    "%%shell\n",
    "cd bmDCA\n",
    "make -j4 && \\\n",
    "make install\n",
    "cd .."
   ]
  },
  {
   "cell_type": "code",
   "execution_count": null,
   "metadata": {},
   "outputs": [],
   "source": [
    "!mkdir results"
   ]
  },
  {
   "cell_type": "code",
   "execution_count": null,
   "metadata": {},
   "outputs": [],
   "source": [
    "%cd /content"
   ]
  },
  {
   "cell_type": "code",
   "execution_count": null,
   "metadata": {},
   "outputs": [],
   "source": [
    "def read_fasta(fname, onehot=True):\n",
    "    seqs = []\n",
    "    seq_list = []\n",
    "    s = \"\"\n",
    "    with open(fname) as f:\n",
    "        line = f.readline()\n",
    "        while line:\n",
    "            if line.startswith(\">\"):\n",
    "                if s != \"\":\n",
    "                    seqs.append(s)\n",
    "                s = \"\"\n",
    "            elif len(line) > 0:\n",
    "                s += line.strip()\n",
    "            line = f.readline()\n",
    "        seqs.append(s)\n",
    "        seq_list.append(list(s))\n",
    "    if onehot:\n",
    "        return get_X(seqs)\n",
    "    else:\n",
    "        return np.array(seqs)\n",
    "\n",
    "def read_fasta_seqs(fname):\n",
    "    seqs = []\n",
    "    s = \"\"\n",
    "    with open(fname) as f:\n",
    "        line = f.readline()\n",
    "        while line:\n",
    "            if line.startswith(\">\"):\n",
    "                if s != \"\":\n",
    "                    seqs.append(list(s))\n",
    "                s = \"\"\n",
    "            elif len(line) > 0:\n",
    "                s += line.strip()\n",
    "            line = f.readline()\n",
    "        seqs.append(list(s))\n",
    "    return np.array(seqs)"
   ]
  },
  {
   "cell_type": "code",
   "execution_count": null,
   "metadata": {},
   "outputs": [],
   "source": [
    "def trim_seqs(seqs, save_name):\n",
    "    \"\"\"\n",
    "    seqs: sequences (list of letters not one-hot encoded)\n",
    "    save_name: output fasta filename\n",
    "\n",
    "    \"\"\"\n",
    "    mask = np.zeros(len(seqs[0]), dtype=np.bool)\n",
    "    for i in range(len(seqs[0])):\n",
    "        gaps = 0\n",
    "        for s in seqs:\n",
    "            if s[i] == '-':\n",
    "                gaps += 1\n",
    "        if gaps/len(seqs) < 0.67:   # keep positions where less than 2/3rd are gaps\n",
    "            mask[i] = True\n",
    "    seqs = seqs[:,mask]\n",
    "\n",
    "    towrite = \"\"\n",
    "    for i in range(len(seqs)):\n",
    "        if sum(seqs[i][100:] == \"-\") < 50:  # don't take sequences with many gaps\n",
    "            towrite += \">{}\\n\".format(i)\n",
    "            seq = \"\".join(seqs[i][:]) + \"\\n\"\n",
    "            towrite += seq.upper()   \n",
    "    with open(save_name,'w') as f:\n",
    "        f.write(towrite)"
   ]
  },
  {
   "cell_type": "code",
   "execution_count": null,
   "metadata": {},
   "outputs": [],
   "source": [
    "seqs = read_fasta_seqs(\"/content/lcc_pfam.txt\")\n",
    "trim_seqs(seqs, \"lcc_short.fasta\")"
   ]
  }
 ],
 "metadata": {
  "kernelspec": {
   "display_name": "Python 3",
   "language": "python",
   "name": "python3"
  },
  "language_info": {
   "codemirror_mode": {
    "name": "ipython",
    "version": 3
   },
   "file_extension": ".py",
   "mimetype": "text/x-python",
   "name": "python",
   "nbconvert_exporter": "python",
   "pygments_lexer": "ipython3",
   "version": "3.7.0"
  }
 },
 "nbformat": 4,
 "nbformat_minor": 4
}
